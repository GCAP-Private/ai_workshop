{
 "cells": [
  {
   "cell_type": "markdown",
   "id": "8a09efe0",
   "metadata": {},
   "source": [
    "# Text Classifier Data Loading\n",
    "\n",
    "This notebook loads the Dell Research Harvard newswire dataset and prepares it for multi-class text classification.\n",
    "\n",
    "## 1. Setup and Data Loading"
   ]
  },
  {
   "cell_type": "code",
   "execution_count": 1,
   "id": "0whxry4vfb6n",
   "metadata": {},
   "outputs": [
    {
     "name": "stdout",
     "output_type": "stream",
     "text": [
      "Loading dataset from HuggingFace...\n",
      "Dataset structure: DatasetDict({\n",
      "    train: Dataset({\n",
      "        features: ['article', 'byline', 'dates', 'newspaper_metadata', 'antitrust', 'civil_rights', 'crime', 'govt_regulation', 'labor_movement', 'politics', 'protests', 'ca_topic', 'ner_words', 'ner_labels', 'wire_city', 'wire_state', 'wire_country', 'wire_coordinates', 'wire_location_notes', 'people_mentioned', 'cleaned_article', 'cluster_size', 'year'],\n",
      "        num_rows: 65191\n",
      "    })\n",
      "})\n",
      "Number of articles: 65191\n"
     ]
    }
   ],
   "source": [
    "# Import required libraries\n",
    "from datasets import load_dataset\n",
    "import pandas as pd\n",
    "import numpy as np\n",
    "from sklearn.model_selection import train_test_split\n",
    "\n",
    "# Load the Dell Research Harvard newswire dataset\n",
    "print(\"Loading dataset from HuggingFace...\")\n",
    "dataset = load_dataset(\"dell-research-harvard/newswire\",\n",
    "    data_files=[\"1968_data_clean.json\", \"1969_data_clean.json\"],\n",
    "    trust_remote_code=True\n",
    ")\n",
    "\n",
    "print(f\"Dataset structure: {dataset}\")\n",
    "print(f\"Number of articles: {dataset['train'].num_rows}\")"
   ]
  },
  {
   "cell_type": "markdown",
   "id": "7u4w69dobr9",
   "metadata": {},
   "source": [
    "## 2. Label Mapping Configuration"
   ]
  },
  {
   "cell_type": "code",
   "execution_count": 2,
   "id": "91418f79",
   "metadata": {},
   "outputs": [
    {
     "name": "stdout",
     "output_type": "stream",
     "text": [
      "Label mapping:\n",
      "   0: no_class\n",
      "   1: antitrust\n",
      "   2: civil_rights\n",
      "   3: crime\n",
      "   4: govt_regulation\n",
      "   5: labor_movement\n",
      "   6: politics\n",
      "   7: protests\n",
      "\n",
      "Dataset info:\n",
      "   Shape: (65191, 23)\n",
      "   Label columns: ['antitrust', 'civil_rights', 'crime', 'govt_regulation', 'labor_movement', 'politics', 'protests']\n"
     ]
    }
   ],
   "source": [
    "# Convert to pandas for easier manipulation\n",
    "df = dataset[\"train\"].to_pandas()\n",
    "\n",
    "# Define simple hardcoded label mapping: string class to integer 1-7, 0 for no class\n",
    "LABEL_MAP = {\n",
    "    'antitrust': 1,\n",
    "    'civil_rights': 2, \n",
    "    'crime': 3,\n",
    "    'govt_regulation': 4,\n",
    "    'labor_movement': 5,\n",
    "    'politics': 6,\n",
    "    'protests': 7\n",
    "}\n",
    "\n",
    "# Create reverse mapping for reference\n",
    "ID_TO_LABEL = {v: k for k, v in LABEL_MAP.items()}\n",
    "ID_TO_LABEL[0] = 'no_class'\n",
    "\n",
    "print(\"Label mapping:\")\n",
    "print(\"   0: no_class\")\n",
    "for label, id in LABEL_MAP.items():\n",
    "    print(f\"   {id}: {label}\")\n",
    "\n",
    "print(f\"\\nDataset info:\")\n",
    "print(f\"   Shape: {df.shape}\")\n",
    "print(f\"   Label columns: {list(LABEL_MAP.keys())}\")"
   ]
  },
  {
   "cell_type": "markdown",
   "id": "mwz1uk8z8zn",
   "metadata": {},
   "source": [
    "## 3. Label Conversion"
   ]
  },
  {
   "cell_type": "code",
   "execution_count": 3,
   "id": "f5e5b67d",
   "metadata": {},
   "outputs": [
    {
     "name": "stdout",
     "output_type": "stream",
     "text": [
      "Converting labels to multi-class format...\n",
      "Label conversion complete!\n",
      "Total samples: 65191\n",
      "Unique label combinations: 54\n",
      "\n",
      "Top 15 most common label combinations:\n",
      "   [0] (['no_class']): 29339 (45.0%)\n",
      "   [6] (['politics']): 17646 (27.1%)\n",
      "   [3] (['crime']): 5107 (7.8%)\n",
      "   [4, 6] (['govt_regulation', 'politics']): 3177 (4.9%)\n",
      "   [5] (['labor_movement']): 1697 (2.6%)\n",
      "   [5, 6] (['labor_movement', 'politics']): 1455 (2.2%)\n",
      "   [4] (['govt_regulation']): 1051 (1.6%)\n",
      "   [7] (['protests']): 585 (0.9%)\n",
      "   [2, 3] (['civil_rights', 'crime']): 548 (0.8%)\n",
      "   [2] (['civil_rights']): 487 (0.7%)\n",
      "   [3, 7] (['crime', 'protests']): 461 (0.7%)\n",
      "   [2, 5] (['civil_rights', 'labor_movement']): 450 (0.7%)\n",
      "   [2, 6] (['civil_rights', 'politics']): 426 (0.7%)\n",
      "   [2, 3, 7] (['civil_rights', 'crime', 'protests']): 414 (0.6%)\n",
      "   [2, 4, 6] (['civil_rights', 'govt_regulation', 'politics']): 387 (0.6%)\n"
     ]
    }
   ],
   "source": [
    "def get_multi_class_labels(row):\n",
    "    \"\"\"Convert binary label columns to list of integer IDs for multi-class classification\"\"\"\n",
    "    active_labels = []\n",
    "    for label_name in LABEL_MAP.keys():\n",
    "        if row[label_name] == 1:\n",
    "            active_labels.append(LABEL_MAP[label_name])\n",
    "    \n",
    "    if not active_labels:\n",
    "        return [0]  # [0] for no_class\n",
    "    else:\n",
    "        return sorted(active_labels)  # Return sorted list of active label IDs\n",
    "\n",
    "# Apply label conversion\n",
    "print(\"Converting labels to multi-class format...\")\n",
    "df['label'] = df.apply(get_multi_class_labels, axis=1)\n",
    "\n",
    "# Create final dataset with text and label columns\n",
    "data = pd.DataFrame({\n",
    "    'text': df['cleaned_article'],\n",
    "    'label': df['label']\n",
    "})\n",
    "\n",
    "print(\"Label conversion complete!\")\n",
    "print(f\"Total samples: {len(data)}\")\n",
    "\n",
    "# Show label distribution\n",
    "label_counts = data['label'].apply(tuple).value_counts()\n",
    "print(f\"Unique label combinations: {len(label_counts)}\")\n",
    "print(f\"\\nTop 15 most common label combinations:\")\n",
    "for i, (label_tuple, count) in enumerate(label_counts.head(15).items()):\n",
    "    label_list = list(label_tuple)\n",
    "    label_names = [ID_TO_LABEL[id] for id in label_list]\n",
    "    percentage = (count / len(data)) * 100\n",
    "    print(f\"   {label_list} ({label_names}): {count} ({percentage:.1f}%)\")"
   ]
  },
  {
   "cell_type": "markdown",
   "id": "34ut8qv4yoo",
   "metadata": {},
   "source": [
    "## 4. Train/Validation/Test Split"
   ]
  },
  {
   "cell_type": "code",
   "execution_count": 5,
   "id": "39707113",
   "metadata": {},
   "outputs": [
    {
     "name": "stdout",
     "output_type": "stream",
     "text": [
      "Creating train/val/test split...\n",
      "Train/val/test split complete!\n",
      "Training set: (45633, 2)\n",
      "Validation set: (9779, 2)\n",
      "Test set: (9779, 2)\n",
      "\n",
      "Top 10 training label combinations:\n",
      "   [0] (['no_class']): 20588 (45.1%)\n",
      "   [6] (['politics']): 12314 (27.0%)\n",
      "   [3] (['crime']): 3544 (7.8%)\n",
      "   [4, 6] (['govt_regulation', 'politics']): 2205 (4.8%)\n",
      "   [5] (['labor_movement']): 1180 (2.6%)\n",
      "   [5, 6] (['labor_movement', 'politics']): 1040 (2.3%)\n",
      "   [4] (['govt_regulation']): 753 (1.7%)\n",
      "   [7] (['protests']): 424 (0.9%)\n",
      "   [2, 3] (['civil_rights', 'crime']): 377 (0.8%)\n",
      "   [3, 7] (['crime', 'protests']): 337 (0.7%)\n",
      "\n",
      "Top 10 validation label combinations:\n",
      "   [0] (['no_class']): 4400 (45.0%)\n",
      "   [6] (['politics']): 2677 (27.4%)\n",
      "   [3] (['crime']): 763 (7.8%)\n",
      "   [4, 6] (['govt_regulation', 'politics']): 484 (4.9%)\n",
      "   [5] (['labor_movement']): 260 (2.7%)\n",
      "   [5, 6] (['labor_movement', 'politics']): 210 (2.1%)\n",
      "   [4] (['govt_regulation']): 154 (1.6%)\n",
      "   [2] (['civil_rights']): 92 (0.9%)\n",
      "   [2, 3] (['civil_rights', 'crime']): 82 (0.8%)\n",
      "   [7] (['protests']): 76 (0.8%)\n",
      "\n",
      "Top 10 test label combinations:\n",
      "   [0] (['no_class']): 4351 (44.5%)\n",
      "   [6] (['politics']): 2655 (27.2%)\n",
      "   [3] (['crime']): 800 (8.2%)\n",
      "   [4, 6] (['govt_regulation', 'politics']): 488 (5.0%)\n",
      "   [5] (['labor_movement']): 257 (2.6%)\n",
      "   [5, 6] (['labor_movement', 'politics']): 205 (2.1%)\n",
      "   [4] (['govt_regulation']): 144 (1.5%)\n",
      "   [2, 3] (['civil_rights', 'crime']): 89 (0.9%)\n",
      "   [7] (['protests']): 85 (0.9%)\n",
      "   [2, 5] (['civil_rights', 'labor_movement']): 72 (0.7%)\n"
     ]
    }
   ],
   "source": [
    "# Create train/test split\n",
    "print(\"Creating train/val/test split...\")\n",
    "X_train, X_temp, y_train, y_temp = train_test_split(\n",
    "    data['text'], data['label'],\n",
    "    test_size=0.3, \n",
    "    random_state=42\n",
    ")\n",
    "\n",
    "X_val, X_test, y_val, y_test = train_test_split(\n",
    "    X_temp, y_temp,\n",
    "    test_size=0.5, \n",
    "    random_state=42\n",
    ")\n",
    "# Create final train and test datasets\n",
    "train_data = pd.DataFrame({'text': X_train, 'label': y_train}).reset_index(drop=True)\n",
    "val_data = pd.DataFrame({'text': X_val, 'label': y_val}).reset_index(drop=True)\n",
    "test_data = pd.DataFrame({'text': X_test, 'label': y_test}).reset_index(drop=True)\n",
    "\n",
    "print(\"Train/val/test split complete!\")\n",
    "print(f\"Training set: {train_data.shape}\")\n",
    "print(f\"Validation set: {val_data.shape}\")\n",
    "print(f\"Test set: {test_data.shape}\")\n",
    "\n",
    "# Show distribution in both sets\n",
    "print(f\"\\nTop 10 training label combinations:\")\n",
    "train_label_counts = train_data['label'].apply(tuple).value_counts()\n",
    "for i, (label_tuple, count) in enumerate(train_label_counts.head(10).items()):\n",
    "    label_list = list(label_tuple)\n",
    "    label_names = [ID_TO_LABEL[id] for id in label_list]\n",
    "    percentage = (count / len(train_data)) * 100\n",
    "    print(f\"   {label_list} ({label_names}): {count} ({percentage:.1f}%)\")\n",
    "\n",
    "print(f\"\\nTop 10 validation label combinations:\")\n",
    "val_label_counts = val_data['label'].apply(tuple).value_counts()\n",
    "for i, (label_tuple, count) in enumerate(val_label_counts.head(10).items()):\n",
    "    label_list = list(label_tuple)\n",
    "    label_names = [ID_TO_LABEL[id] for id in label_list]\n",
    "    percentage = (count / len(val_data)) * 100\n",
    "    print(f\"   {label_list} ({label_names}): {count} ({percentage:.1f}%)\")\n",
    "\n",
    "print(f\"\\nTop 10 test label combinations:\")\n",
    "test_label_counts = test_data['label'].apply(tuple).value_counts()\n",
    "for i, (label_tuple, count) in enumerate(test_label_counts.head(10).items()):\n",
    "    label_list = list(label_tuple)\n",
    "    label_names = [ID_TO_LABEL[id] for id in label_list]\n",
    "    percentage = (count / len(test_data)) * 100\n",
    "    print(f\"   {label_list} ({label_names}): {count} ({percentage:.1f}%)\")"
   ]
  },
  {
   "cell_type": "markdown",
   "id": "se2w8zhybpr",
   "metadata": {},
   "source": [
    "## 5. Final Dataset Examples and Summary"
   ]
  },
  {
   "cell_type": "code",
   "execution_count": null,
   "id": "f5fc861b",
   "metadata": {},
   "outputs": [],
   "source": [
    "train_data.to_parquet(\"../data/train_data.parquet\", index=False)\n",
    "val_data.to_parquet(\"../data/val_data.parquet\", index=False)\n",
    "test_data.to_parquet(\"../data/test_data.parquet\", index=False)"
   ]
  },
  {
   "cell_type": "code",
   "execution_count": null,
   "id": "78dea847",
   "metadata": {},
   "outputs": [],
   "source": []
  }
 ],
 "metadata": {
  "kernelspec": {
   "display_name": "text-classifier (3.12.6)",
   "language": "python",
   "name": "python3"
  },
  "language_info": {
   "codemirror_mode": {
    "name": "ipython",
    "version": 3
   },
   "file_extension": ".py",
   "mimetype": "text/x-python",
   "name": "python",
   "nbconvert_exporter": "python",
   "pygments_lexer": "ipython3",
   "version": "3.12.6"
  }
 },
 "nbformat": 4,
 "nbformat_minor": 5
}
