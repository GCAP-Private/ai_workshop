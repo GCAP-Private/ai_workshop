{
 "cells": [
  {
   "cell_type": "markdown",
   "metadata": {},
   "source": [
    "# Integrated Gradients for Text Classification\n",
    "\n",
    "This notebook demonstrates how to use Integrated Gradients to interpret model predictions by identifying the most important tokens in the input text."
   ]
  },
  {
   "cell_type": "code",
   "execution_count": 1,
   "metadata": {},
   "outputs": [
    {
     "name": "stdout",
     "output_type": "stream",
     "text": [
      "Environment loaded from: /home/users/xwfeng/ai_workshop/text_classifier/sherlock.env\n",
      "TEST_FILE: /oak/stanford/groups/maggiori/GCAP/data/scratch/xwfeng/text_classifier/data/test_data.parquet\n",
      "SAVE_DIR: /oak/stanford/groups/maggiori/GCAP/data/scratch/xwfeng/text_classifier/checkpoints\n"
     ]
    }
   ],
   "source": [
    "import os\n",
    "import sys\n",
    "from pathlib import Path\n",
    "import numpy as np\n",
    "import pandas as pd\n",
    "import torch\n",
    "from dotenv import load_dotenv\n",
    "import matplotlib.pyplot as plt\n",
    "from IPython.display import HTML, display\n",
    "\n",
    "# IMPORTANT: Set deployment environment and load variables BEFORE importing config\n",
    "os.environ[\"DEPLOYMENT_ENV\"] = \"sherlock\"\n",
    "env_path = Path.cwd().parent / \"sherlock.env\"\n",
    "load_dotenv(env_path, override=True)\n",
    "\n",
    "print(f\"Environment loaded from: {env_path}\")\n",
    "print(f\"TEST_FILE: {os.getenv('TEST_FILE')}\")\n",
    "print(f\"SAVE_DIR: {os.getenv('SAVE_DIR')}\")\n",
    "\n",
    "# Add src directory to path\n",
    "sys.path.insert(0, str(Path.cwd().parent / \"src\"))\n",
    "\n",
    "from model import load_trained_model\n",
    "from config import Config"
   ]
  },
  {
   "cell_type": "markdown",
   "metadata": {},
   "source": [
    "## Load Model and Test Data"
   ]
  },
  {
   "cell_type": "code",
   "execution_count": 2,
   "metadata": {},
   "outputs": [
    {
     "name": "stdout",
     "output_type": "stream",
     "text": [
      "Loading model from: /oak/stanford/groups/maggiori/GCAP/data/scratch/xwfeng/text_classifier/checkpoints/best_model.pt\n",
      "\n",
      "Model loaded successfully!\n",
      "Device: cuda\n",
      "Number of classes: 7\n"
     ]
    }
   ],
   "source": [
    "# Load configuration\n",
    "config = Config()\n",
    "\n",
    "# Load the best model\n",
    "checkpoint_path = Path(os.getenv('SAVE_DIR')) / \"best_model.pt\"\n",
    "device = \"cuda\" if torch.cuda.is_available() else \"cpu\"\n",
    "\n",
    "print(f\"Loading model from: {checkpoint_path}\")\n",
    "model, tokenizer, model_config = load_trained_model(checkpoint_path, device)\n",
    "model.eval()\n",
    "\n",
    "print(f\"\\nModel loaded successfully!\")\n",
    "print(f\"Device: {device}\")\n",
    "print(f\"Number of classes: {model_config.num_classes}\")"
   ]
  },
  {
   "cell_type": "code",
   "execution_count": 3,
   "metadata": {},
   "outputs": [
    {
     "name": "stdout",
     "output_type": "stream",
     "text": [
      "Loading test data from: /oak/stanford/groups/maggiori/GCAP/data/scratch/xwfeng/text_classifier/data/test_data.parquet\n",
      "Test data shape: (13039, 2)\n",
      "Columns: ['text', 'label']\n"
     ]
    }
   ],
   "source": [
    "# Load test data\n",
    "test_file = os.getenv('TEST_FILE')\n",
    "print(f\"Loading test data from: {test_file}\")\n",
    "\n",
    "if Path(test_file).suffix == '.parquet':\n",
    "    test_df = pd.read_parquet(test_file)\n",
    "else:\n",
    "    test_df = pd.read_csv(test_file)\n",
    "\n",
    "print(f\"Test data shape: {test_df.shape}\")\n",
    "print(f\"Columns: {test_df.columns.tolist()}\")"
   ]
  },
  {
   "cell_type": "markdown",
   "metadata": {},
   "source": [
    "## Sample Random Test Data"
   ]
  },
  {
   "cell_type": "code",
   "execution_count": 19,
   "metadata": {},
   "outputs": [
    {
     "name": "stdout",
     "output_type": "stream",
     "text": [
      "Sample index: 4759\n",
      "\n",
      "Text: WASHINGTON (AP) — The Interstate Commerce Commission refused Friday to block increases in truck freight rates set to take effect April 1 in 23 states, including Iowa.\n",
      "\n",
      "In an unusual action the entire commission took up the case — rather than just a three-member panel of commissioners. The vote was 6 to 3, but it could not be learned how individual commissioners cast their votes....\n",
      "\n",
      "True label (one-hot): [0. 0. 0. 1. 0. 1. 0.]\n",
      "True categories: ['govt_regulation', 'politics']\n"
     ]
    }
   ],
   "source": [
    "# Randomly sample one example from test data\n",
    "sample_idx = np.random.randint(0, len(test_df))\n",
    "sample_text = test_df.iloc[sample_idx][config.text_column]\n",
    "sample_label = test_df.iloc[sample_idx][config.label_column]\n",
    "\n",
    "print(f\"Sample index: {sample_idx}\")\n",
    "print(f\"\\nText: {sample_text[:500]}...\")\n",
    "print(f\"\\nTrue label (one-hot): {sample_label}\")\n",
    "\n",
    "# Map to category names\n",
    "category_names = ['antitrust', 'civil_rights', 'crime', 'govt_regulation',\n",
    "                  'labor_movement', 'politics', 'protests']\n",
    "true_categories = [category_names[i] for i, val in enumerate(sample_label) if val == 1]\n",
    "print(f\"True categories: {true_categories}\")"
   ]
  },
  {
   "cell_type": "markdown",
   "metadata": {},
   "source": [
    "## Run Model Inference"
   ]
  },
  {
   "cell_type": "code",
   "execution_count": 20,
   "metadata": {},
   "outputs": [
    {
     "name": "stdout",
     "output_type": "stream",
     "text": [
      "\n",
      "======================================================================\n",
      "MODEL PREDICTIONS\n",
      "======================================================================\n",
      "Predicted categories: ['labor_movement', 'politics']\n",
      "\n",
      "Probabilities for each class:\n",
      "  antitrust           : 0.0003\n",
      "  civil_rights        : 0.0005\n",
      "  crime               : 0.0099\n",
      "  govt_regulation     : 0.4587\n",
      "  labor_movement      : 0.5087\n",
      "  politics            : 0.6424\n",
      "  protests            : 0.0024\n",
      "======================================================================\n"
     ]
    }
   ],
   "source": [
    "# Tokenize the sample text\n",
    "encoding = tokenizer(\n",
    "    sample_text,\n",
    "    truncation=True,\n",
    "    padding='max_length',\n",
    "    max_length=model_config.max_length,\n",
    "    return_tensors='pt'\n",
    ")\n",
    "\n",
    "input_ids = encoding['input_ids'].to(device)\n",
    "attention_mask = encoding['attention_mask'].to(device)\n",
    "\n",
    "# Get model predictions\n",
    "with torch.no_grad():\n",
    "    outputs = model(input_ids=input_ids, attention_mask=attention_mask)\n",
    "    probabilities = torch.sigmoid(outputs)\n",
    "    predicted_indices = (probabilities[0] > 0.5).nonzero(as_tuple=True)[0].cpu().numpy().tolist()\n",
    "\n",
    "predicted_categories = [category_names[idx] for idx in predicted_indices]\n",
    "\n",
    "print(\"\\n\" + \"=\"*70)\n",
    "print(\"MODEL PREDICTIONS\")\n",
    "print(\"=\"*70)\n",
    "print(f\"Predicted categories: {predicted_categories}\")\n",
    "print(f\"\\nProbabilities for each class:\")\n",
    "for i, (cat, prob) in enumerate(zip(category_names, probabilities[0].cpu().numpy())):\n",
    "    print(f\"  {cat:20s}: {prob:.4f}\")\n",
    "print(\"=\"*70)"
   ]
  },
  {
   "cell_type": "markdown",
   "metadata": {},
   "source": [
    "## Integrated Gradients Implementation"
   ]
  },
  {
   "cell_type": "code",
   "execution_count": 21,
   "metadata": {},
   "outputs": [],
   "source": [
    "def compute_integrated_gradients(\n",
    "    model,\n",
    "    input_ids,\n",
    "    attention_mask,\n",
    "    baseline_ids,\n",
    "    target_class_idx,\n",
    "    steps=50\n",
    "):\n",
    "    \"\"\"\n",
    "    Compute integrated gradients for a given input and target class.\n",
    "    \n",
    "    Args:\n",
    "        model: The classification model\n",
    "        input_ids: Input token IDs (batch_size, seq_length)\n",
    "        attention_mask: Attention mask (batch_size, seq_length)\n",
    "        baseline_ids: Baseline token IDs (batch_size, seq_length)\n",
    "        target_class_idx: Index of the target class to compute gradients for\n",
    "        steps: Number of interpolation steps\n",
    "    \n",
    "    Returns:\n",
    "        integrated_gradients: Gradient attributions for each token\n",
    "    \"\"\"\n",
    "    # Store cumulative gradients\n",
    "    cumulative_grads = torch.zeros_like(input_ids, dtype=torch.float32)\n",
    "    \n",
    "    model.eval()\n",
    "    device = input_ids.device\n",
    "    \n",
    "    # Interpolate between baseline and input\n",
    "    for step in range(steps):\n",
    "        # Linear interpolation\n",
    "        alpha = (step + 1) / steps\n",
    "        \n",
    "        # Interpolated embeddings\n",
    "        interpolated_ids = baseline_ids + alpha * (input_ids - baseline_ids)\n",
    "        interpolated_ids = interpolated_ids.round().long()  # Convert back to integer IDs\n",
    "        \n",
    "        # Get embeddings and enable gradients\n",
    "        embeddings = model.bert.embeddings.word_embeddings(interpolated_ids)\n",
    "        embeddings.requires_grad_(True)\n",
    "        embeddings.retain_grad()  # IMPORTANT: Retain gradients for non-leaf tensor\n",
    "        \n",
    "        # Forward pass through the model with custom embeddings\n",
    "        # We need to pass through the rest of the embedding layer\n",
    "        position_ids = torch.arange(interpolated_ids.size(1), dtype=torch.long, device=device).unsqueeze(0)\n",
    "        position_embeddings = model.bert.embeddings.position_embeddings(position_ids)\n",
    "        token_type_ids = torch.zeros_like(interpolated_ids)\n",
    "        token_type_embeddings = model.bert.embeddings.token_type_embeddings(token_type_ids)\n",
    "        \n",
    "        # Combine embeddings\n",
    "        full_embeddings = embeddings + position_embeddings + token_type_embeddings\n",
    "        full_embeddings = model.bert.embeddings.LayerNorm(full_embeddings)\n",
    "        full_embeddings = model.bert.embeddings.dropout(full_embeddings)\n",
    "        \n",
    "        # Create proper attention mask for encoder (convert to float and expand dimensions)\n",
    "        # Shape: (batch_size, 1, 1, seq_length)\n",
    "        extended_attention_mask = attention_mask[:, None, None, :].float()\n",
    "        # Convert from 0/1 to 0/-10000 for masking\n",
    "        extended_attention_mask = (1.0 - extended_attention_mask) * -10000.0\n",
    "        \n",
    "        # Pass through encoder\n",
    "        encoder_outputs = model.bert.encoder(\n",
    "            full_embeddings,\n",
    "            attention_mask=extended_attention_mask\n",
    "        )\n",
    "        sequence_output = encoder_outputs[0]\n",
    "        \n",
    "        # Get CLS token and pass through classifier\n",
    "        cls_output = sequence_output[:, 0, :]\n",
    "        cls_output = cls_output.unsqueeze(-1)\n",
    "        conv_output = torch.relu(model.conv1d(cls_output))\n",
    "        pooled_output = model.maxpool(conv_output).squeeze(-1)\n",
    "        \n",
    "        if model.training and pooled_output.size(0) == 1:\n",
    "            normalized_output = pooled_output\n",
    "        else:\n",
    "            normalized_output = model.batch_norm(pooled_output)\n",
    "        \n",
    "        dropped_output = model.dropout(normalized_output)\n",
    "        dense_output = torch.relu(model.dense(dropped_output))\n",
    "        logits = model.classifier(dense_output)\n",
    "        \n",
    "        # Get the logit for the target class\n",
    "        target_logit = logits[0, target_class_idx]\n",
    "        \n",
    "        # Compute gradients with respect to embeddings\n",
    "        model.zero_grad()\n",
    "        target_logit.backward(retain_graph=False)\n",
    "        \n",
    "        # Get gradients (now available because we called retain_grad())\n",
    "        grads = embeddings.grad\n",
    "        \n",
    "        # Aggregate gradients (L2 norm across embedding dimension)\n",
    "        token_grads = torch.norm(grads, dim=-1)\n",
    "        cumulative_grads += token_grads.float()\n",
    "    \n",
    "    # Average the gradients\n",
    "    avg_grads = cumulative_grads / steps\n",
    "    \n",
    "    # Compute integrated gradients: (input - baseline) * avg_gradients\n",
    "    integrated_grads = (input_ids.float() - baseline_ids.float()) * avg_grads\n",
    "    \n",
    "    return integrated_grads"
   ]
  },
  {
   "cell_type": "code",
   "execution_count": 22,
   "metadata": {},
   "outputs": [
    {
     "name": "stdout",
     "output_type": "stream",
     "text": [
      "Computing integrated gradients...\n",
      "This may take a minute or two...\n",
      "\n",
      "  Completed class 0 (antitrust)\n",
      "  Completed class 1 (civil_rights)\n",
      "  Completed class 2 (crime)\n",
      "  Completed class 3 (govt_regulation)\n",
      "  Completed class 4 (labor_movement)\n",
      "  Completed class 5 (politics)\n",
      "  Completed class 6 (protests)\n",
      "\n",
      "Integrated gradients computation complete!\n"
     ]
    }
   ],
   "source": [
    "# Create baseline (empty text = all padding tokens)\n",
    "baseline_ids = torch.zeros_like(input_ids)\n",
    "baseline_ids[:, 0] = tokenizer.cls_token_id  # Keep CLS token\n",
    "baseline_ids[:, 1] = tokenizer.sep_token_id  # Keep SEP token\n",
    "# Rest are zeros (padding tokens)\n",
    "\n",
    "print(\"Computing integrated gradients...\")\n",
    "print(f\"This may take a minute or two...\\n\")\n",
    "\n",
    "# Compute integrated gradients for each predicted class\n",
    "all_integrated_grads = {}\n",
    "\n",
    "for class_idx in range(model_config.num_classes):\n",
    "    ig = compute_integrated_gradients(\n",
    "        model,\n",
    "        input_ids,\n",
    "        attention_mask,\n",
    "        baseline_ids,\n",
    "        target_class_idx=class_idx,\n",
    "        steps=50\n",
    "    )\n",
    "    all_integrated_grads[class_idx] = ig\n",
    "    print(f\"  Completed class {class_idx} ({category_names[class_idx]})\")\n",
    "\n",
    "print(\"\\nIntegrated gradients computation complete!\")"
   ]
  },
  {
   "cell_type": "markdown",
   "metadata": {},
   "source": [
    "## Visualize Top 20 Largest and Smallest Attributions"
   ]
  },
  {
   "cell_type": "code",
   "execution_count": 23,
   "metadata": {},
   "outputs": [],
   "source": [
    "def highlight_tokens(tokens, attributions, top_k=20):\n",
    "    \"\"\"\n",
    "    Create HTML visualization of tokens with color-coded attributions.\n",
    "    \n",
    "    Args:\n",
    "        tokens: List of token strings\n",
    "        attributions: Attribution scores for each token\n",
    "        top_k: Number of top positive and negative attributions to highlight\n",
    "    \n",
    "    Returns:\n",
    "        HTML string with highlighted tokens\n",
    "    \"\"\"\n",
    "    # Get indices of top positive and negative attributions\n",
    "    sorted_indices = np.argsort(attributions)\n",
    "    \n",
    "    # Bottom 20 (most negative)\n",
    "    bottom_indices = set(sorted_indices[:top_k].tolist())\n",
    "    # Top 20 (most positive)\n",
    "    top_indices = set(sorted_indices[-top_k:].tolist())\n",
    "    \n",
    "    # Normalize attributions for color intensity\n",
    "    abs_max = max(abs(attributions.min()), abs(attributions.max()))\n",
    "    \n",
    "    html_parts = ['<div style=\"line-height: 2.0; font-family: monospace; font-size: 14px;\">']\n",
    "    \n",
    "    for i, (token, attr) in enumerate(zip(tokens, attributions)):\n",
    "        # Skip special tokens for display\n",
    "        if token in ['[CLS]', '[SEP]', '[PAD]']:\n",
    "            continue\n",
    "        \n",
    "        # Clean up token (remove ## for subwords)\n",
    "        display_token = token.replace('##', '')\n",
    "        \n",
    "        if i in top_indices:\n",
    "            # Positive attribution (red)\n",
    "            intensity = min(abs(attr) / abs_max, 1.0)\n",
    "            color = f'rgba(255, 0, 0, {0.3 + 0.7 * intensity})'\n",
    "            html_parts.append(\n",
    "                f'<span style=\"background-color: {color}; padding: 2px 4px; margin: 2px; '\n",
    "                f'border-radius: 3px; font-weight: bold;\" title=\"{attr:.4f}\">{display_token}</span>'\n",
    "            )\n",
    "        elif i in bottom_indices:\n",
    "            # Negative attribution (blue)\n",
    "            intensity = min(abs(attr) / abs_max, 1.0)\n",
    "            color = f'rgba(0, 0, 255, {0.3 + 0.7 * intensity})'\n",
    "            html_parts.append(\n",
    "                f'<span style=\"background-color: {color}; padding: 2px 4px; margin: 2px; '\n",
    "                f'border-radius: 3px; font-weight: bold;\" title=\"{attr:.4f}\">{display_token}</span>'\n",
    "            )\n",
    "        else:\n",
    "            # Normal token\n",
    "            html_parts.append(f'<span style=\"padding: 2px; margin: 2px;\">{display_token}</span>')\n",
    "    \n",
    "    html_parts.append('</div>')\n",
    "    return ''.join(html_parts)"
   ]
  },
  {
   "cell_type": "code",
   "execution_count": 24,
   "metadata": {},
   "outputs": [
    {
     "name": "stdout",
     "output_type": "stream",
     "text": [
      "\n",
      "Total tokens (excluding padding): 76\n"
     ]
    }
   ],
   "source": [
    "# Convert input_ids to tokens\n",
    "tokens = tokenizer.convert_ids_to_tokens(input_ids[0].cpu().numpy())\n",
    "\n",
    "# Filter to actual tokens (non-padding)\n",
    "actual_length = attention_mask[0].sum().item()\n",
    "tokens = tokens[:actual_length]\n",
    "\n",
    "print(f\"\\nTotal tokens (excluding padding): {len(tokens)}\")"
   ]
  },
  {
   "cell_type": "code",
   "execution_count": 25,
   "metadata": {},
   "outputs": [
    {
     "name": "stdout",
     "output_type": "stream",
     "text": [
      "\n",
      "====================================================================================================\n",
      "CLASS: LABOR_MOVEMENT (Probability: 0.5087)\n",
      "====================================================================================================\n",
      "\n",
      "Attribution Statistics:\n",
      "  Max: 55069.9648\n",
      "  Min: 0.0000\n",
      "  Mean: 10672.3809\n",
      "  Std: 9199.6143\n",
      "\n",
      "Top 20 Positive Attributions (Red):\n",
      "  commissioners       : 55069.9648\n",
      "  commissioners       : 50673.5469\n",
      "  ap                  : 32317.8477\n",
      "  panel               : 24920.0176\n",
      "  freight             : 23472.5430\n",
      "  interstate          : 22886.2793\n",
      "  votes               : 22104.5898\n",
      "  increases           : 20793.2773\n",
      "  learned             : 18591.5918\n",
      "  rates               : 18022.4141\n",
      "  commerce            : 17355.8594\n",
      "  cast                : 16966.1582\n",
      "  unusual             : 16965.9414\n",
      "  friday              : 16676.2285\n",
      "  vote                : 16487.1914\n",
      "  iowa                : 16299.5693\n",
      "  individual          : 16099.1133\n",
      "  truck               : 12614.4707\n",
      "  refused             : 12510.4854\n",
      "  their               : 10578.6953\n",
      "\n",
      "Top 20 Negative Attributions (Blue):\n",
      "  .                   : 2869.1294\n",
      "  1                   : 2994.9023\n",
      "  ,                   : 3120.2351\n",
      "  (                   : 3156.7534\n",
      "  )                   : 3335.9973\n",
      "  a                   : 3704.6377\n",
      "  -                   : 4052.0171\n",
      "  ,                   : 4104.8418\n",
      "  6                   : 4192.2310\n",
      "  3                   : 4201.4297\n",
      "  .                   : 4716.2959\n",
      "  .                   : 4788.4741\n",
      "  —                   : 4803.7178\n",
      "  —                   : 5162.7749\n",
      "  to                  : 5441.0381\n",
      "  in                  : 5562.9150\n",
      "  to                  : 5677.5449\n",
      "  in                  : 5684.4478\n",
      "\n",
      "Highlighted Text (hover for attribution scores):\n",
      "Red = Positive attribution (supports this class)\n",
      "Blue = Negative attribution (against this class)\n",
      "\n"
     ]
    },
    {
     "data": {
      "text/html": [
       "<div style=\"line-height: 2.0; font-family: monospace; font-size: 14px;\"><span style=\"padding: 2px; margin: 2px;\">washington</span><span style=\"background-color: rgba(0, 0, 255, 0.3401258192956447); padding: 2px 4px; margin: 2px; border-radius: 3px; font-weight: bold;\" title=\"3156.7534\">(</span><span style=\"background-color: rgba(255, 0, 0, 0.7107954919338226); padding: 2px 4px; margin: 2px; border-radius: 3px; font-weight: bold;\" title=\"32317.8477\">ap</span><span style=\"background-color: rgba(0, 0, 255, 0.34240420609712596); padding: 2px 4px; margin: 2px; border-radius: 3px; font-weight: bold;\" title=\"3335.9973\">)</span><span style=\"background-color: rgba(0, 0, 255, 0.3656245619058609); padding: 2px 4px; margin: 2px; border-radius: 3px; font-weight: bold;\" title=\"5162.7749\">—</span><span style=\"padding: 2px; margin: 2px;\">the</span><span style=\"background-color: rgba(255, 0, 0, 0.5909098625183105); padding: 2px 4px; margin: 2px; border-radius: 3px; font-weight: bold;\" title=\"22886.2793\">interstate</span><span style=\"background-color: rgba(255, 0, 0, 0.5206121087074279); padding: 2px 4px; margin: 2px; border-radius: 3px; font-weight: bold;\" title=\"17355.8594\">commerce</span><span style=\"padding: 2px; margin: 2px;\">commission</span><span style=\"background-color: rgba(255, 0, 0, 0.45902207046747207); padding: 2px 4px; margin: 2px; border-radius: 3px; font-weight: bold;\" title=\"12510.4854\">refused</span><span style=\"background-color: rgba(255, 0, 0, 0.5119732677936554); padding: 2px 4px; margin: 2px; border-radius: 3px; font-weight: bold;\" title=\"16676.2285\">friday</span><span style=\"background-color: rgba(0, 0, 255, 0.36916159838438034); padding: 2px 4px; margin: 2px; border-radius: 3px; font-weight: bold;\" title=\"5441.0381\">to</span><span style=\"padding: 2px; margin: 2px;\">block</span><span style=\"background-color: rgba(255, 0, 0, 0.5643054902553558); padding: 2px 4px; margin: 2px; border-radius: 3px; font-weight: bold;\" title=\"20793.2773\">increases</span><span style=\"background-color: rgba(0, 0, 255, 0.3722556017339229); padding: 2px 4px; margin: 2px; border-radius: 3px; font-weight: bold;\" title=\"5684.4478\">in</span><span style=\"background-color: rgba(255, 0, 0, 0.4603438422083854); padding: 2px 4px; margin: 2px; border-radius: 3px; font-weight: bold;\" title=\"12614.4707\">truck</span><span style=\"background-color: rgba(255, 0, 0, 0.5983619064092636); padding: 2px 4px; margin: 2px; border-radius: 3px; font-weight: bold;\" title=\"23472.5430\">freight</span><span style=\"background-color: rgba(255, 0, 0, 0.5290847659111022); padding: 2px 4px; margin: 2px; border-radius: 3px; font-weight: bold;\" title=\"18022.4141\">rates</span><span style=\"padding: 2px; margin: 2px;\">set</span><span style=\"background-color: rgba(0, 0, 255, 0.3721678577363491); padding: 2px 4px; margin: 2px; border-radius: 3px; font-weight: bold;\" title=\"5677.5449\">to</span><span style=\"padding: 2px; margin: 2px;\">take</span><span style=\"padding: 2px; margin: 2px;\">effect</span><span style=\"padding: 2px; margin: 2px;\">april</span><span style=\"background-color: rgba(0, 0, 255, 0.338068513572216); padding: 2px 4px; margin: 2px; border-radius: 3px; font-weight: bold;\" title=\"2994.9023\">1</span><span style=\"background-color: rgba(0, 0, 255, 0.3707107879221439); padding: 2px 4px; margin: 2px; border-radius: 3px; font-weight: bold;\" title=\"5562.9150\">in</span><span style=\"padding: 2px; margin: 2px;\">23</span><span style=\"padding: 2px; margin: 2px;\">states</span><span style=\"background-color: rgba(0, 0, 255, 0.33966162987053394); padding: 2px 4px; margin: 2px; border-radius: 3px; font-weight: bold;\" title=\"3120.2351\">,</span><span style=\"padding: 2px; margin: 2px;\">including</span><span style=\"background-color: rgba(255, 0, 0, 0.5071855038404465); padding: 2px 4px; margin: 2px; border-radius: 3px; font-weight: bold;\" title=\"16299.5693\">iowa</span><span style=\"background-color: rgba(0, 0, 255, 0.33646979853510856); padding: 2px 4px; margin: 2px; border-radius: 3px; font-weight: bold;\" title=\"2869.1294\">.</span><span style=\"padding: 2px; margin: 2px;\">in</span><span style=\"padding: 2px; margin: 2px;\">an</span><span style=\"background-color: rgba(255, 0, 0, 0.5156558245420455); padding: 2px 4px; margin: 2px; border-radius: 3px; font-weight: bold;\" title=\"16965.9414\">unusual</span><span style=\"padding: 2px; margin: 2px;\">action</span><span style=\"padding: 2px; margin: 2px;\">the</span><span style=\"padding: 2px; margin: 2px;\">entire</span><span style=\"padding: 2px; margin: 2px;\">commission</span><span style=\"padding: 2px; margin: 2px;\">took</span><span style=\"padding: 2px; margin: 2px;\">up</span><span style=\"padding: 2px; margin: 2px;\">the</span><span style=\"padding: 2px; margin: 2px;\">case</span><span style=\"background-color: rgba(0, 0, 255, 0.3610605493187904); padding: 2px 4px; margin: 2px; border-radius: 3px; font-weight: bold;\" title=\"4803.7178\">—</span><span style=\"padding: 2px; margin: 2px;\">rather</span><span style=\"padding: 2px; margin: 2px;\">than</span><span style=\"padding: 2px; margin: 2px;\">just</span><span style=\"background-color: rgba(0, 0, 255, 0.34709002971649167); padding: 2px 4px; margin: 2px; border-radius: 3px; font-weight: bold;\" title=\"3704.6377\">a</span><span style=\"padding: 2px; margin: 2px;\">three</span><span style=\"background-color: rgba(0, 0, 255, 0.3515056066215038); padding: 2px 4px; margin: 2px; border-radius: 3px; font-weight: bold;\" title=\"4052.0171\">-</span><span style=\"padding: 2px; margin: 2px;\">member</span><span style=\"background-color: rgba(255, 0, 0, 0.6167609214782714); padding: 2px 4px; margin: 2px; border-radius: 3px; font-weight: bold;\" title=\"24920.0176\">panel</span><span style=\"padding: 2px; margin: 2px;\">of</span><span style=\"background-color: rgba(255, 0, 0, 0.9441166698932648); padding: 2px 4px; margin: 2px; border-radius: 3px; font-weight: bold;\" title=\"50673.5469\">commissioners</span><span style=\"background-color: rgba(0, 0, 255, 0.3599493235349655); padding: 2px 4px; margin: 2px; border-radius: 3px; font-weight: bold;\" title=\"4716.2959\">.</span><span style=\"padding: 2px; margin: 2px;\">the</span><span style=\"background-color: rgba(255, 0, 0, 0.5095703840255736); padding: 2px 4px; margin: 2px; border-radius: 3px; font-weight: bold;\" title=\"16487.1914\">vote</span><span style=\"padding: 2px; margin: 2px;\">was</span><span style=\"background-color: rgba(0, 0, 255, 0.3532878778874874); padding: 2px 4px; margin: 2px; border-radius: 3px; font-weight: bold;\" title=\"4192.2310\">6</span><span style=\"padding: 2px; margin: 2px;\">to</span><span style=\"background-color: rgba(0, 0, 255, 0.3534048072993755); padding: 2px 4px; margin: 2px; border-radius: 3px; font-weight: bold;\" title=\"4201.4297\">3</span><span style=\"background-color: rgba(0, 0, 255, 0.3521770693361759); padding: 2px 4px; margin: 2px; border-radius: 3px; font-weight: bold;\" title=\"4104.8418\">,</span><span style=\"padding: 2px; margin: 2px;\">but</span><span style=\"padding: 2px; margin: 2px;\">it</span><span style=\"padding: 2px; margin: 2px;\">could</span><span style=\"padding: 2px; margin: 2px;\">not</span><span style=\"padding: 2px; margin: 2px;\">be</span><span style=\"background-color: rgba(255, 0, 0, 0.5363196402788162); padding: 2px 4px; margin: 2px; border-radius: 3px; font-weight: bold;\" title=\"18591.5918\">learned</span><span style=\"padding: 2px; margin: 2px;\">how</span><span style=\"background-color: rgba(255, 0, 0, 0.504637485742569); padding: 2px 4px; margin: 2px; border-radius: 3px; font-weight: bold;\" title=\"16099.1133\">individual</span><span style=\"background-color: rgba(255, 0, 0, 1.0); padding: 2px 4px; margin: 2px; border-radius: 3px; font-weight: bold;\" title=\"55069.9648\">commissioners</span><span style=\"background-color: rgba(255, 0, 0, 0.5156585782766342); padding: 2px 4px; margin: 2px; border-radius: 3px; font-weight: bold;\" title=\"16966.1582\">cast</span><span style=\"background-color: rgba(255, 0, 0, 0.4344668835401535); padding: 2px 4px; margin: 2px; border-radius: 3px; font-weight: bold;\" title=\"10578.6953\">their</span><span style=\"background-color: rgba(255, 0, 0, 0.5809737205505371); padding: 2px 4px; margin: 2px; border-radius: 3px; font-weight: bold;\" title=\"22104.5898\">votes</span><span style=\"background-color: rgba(0, 0, 255, 0.36086678653955456); padding: 2px 4px; margin: 2px; border-radius: 3px; font-weight: bold;\" title=\"4788.4741\">.</span></div>"
      ],
      "text/plain": [
       "<IPython.core.display.HTML object>"
      ]
     },
     "metadata": {},
     "output_type": "display_data"
    },
    {
     "data": {
      "image/png": "[encoded data removed]",
      "text/plain": [
       "<Figure size 1200x400 with 1 Axes>"
      ]
     },
     "metadata": {},
     "output_type": "display_data"
    },
    {
     "name": "stdout",
     "output_type": "stream",
     "text": [
      "\n",
      "====================================================================================================\n",
      "CLASS: POLITICS (Probability: 0.6424)\n",
      "====================================================================================================\n",
      "\n",
      "Attribution Statistics:\n",
      "  Max: 53041.2148\n",
      "  Min: 0.0000\n",
      "  Mean: 10027.3115\n",
      "  Std: 8814.8984\n",
      "\n",
      "Top 20 Positive Attributions (Red):\n",
      "  commissioners       : 53041.2148\n",
      "  commissioners       : 48218.6680\n",
      "  ap                  : 30000.1777\n",
      "  panel               : 23319.3535\n",
      "  freight             : 22586.0137\n",
      "  votes               : 21466.4746\n",
      "  interstate          : 21112.6074\n",
      "  increases           : 20210.4766\n",
      "  cast                : 17411.1426\n",
      "  learned             : 17183.7598\n",
      "  rates               : 16887.8066\n",
      "  unusual             : 16318.0752\n",
      "  commerce            : 16145.3936\n",
      "  friday              : 16105.5273\n",
      "  vote                : 15870.6670\n",
      "  iowa                : 15755.3867\n",
      "  individual          : 14137.7939\n",
      "  refused             : 12108.9014\n",
      "  truck               : 11792.9668\n",
      "  their               : 9649.0674\n",
      "\n",
      "Top 20 Negative Attributions (Blue):\n",
      "  .                   : 2608.0273\n",
      "  1                   : 2756.4756\n",
      "  (                   : 2782.1895\n",
      "  ,                   : 2820.2654\n",
      "  )                   : 2875.8459\n",
      "  a                   : 3550.9761\n",
      "  -                   : 3692.1956\n",
      "  ,                   : 3784.5217\n",
      "  6                   : 3822.3513\n",
      "  3                   : 3877.9492\n",
      "  .                   : 4116.6738\n",
      "  —                   : 4560.1914\n",
      "  .                   : 4608.3564\n",
      "  —                   : 4694.6509\n",
      "  to                  : 4956.4897\n",
      "  in                  : 5262.0376\n",
      "  to                  : 5365.2153\n",
      "  in                  : 5370.9976\n",
      "\n",
      "Highlighted Text (hover for attribution scores):\n",
      "Red = Positive attribution (supports this class)\n",
      "Blue = Negative attribution (against this class)\n",
      "\n"
     ]
    },
    {
     "data": {
      "text/html": [
       "<div style=\"line-height: 2.0; font-family: monospace; font-size: 14px;\"><span style=\"padding: 2px; margin: 2px;\">washington</span><span style=\"background-color: rgba(0, 0, 255, 0.33671734519302843); padding: 2px 4px; margin: 2px; border-radius: 3px; font-weight: bold;\" title=\"2782.1895\">(</span><span style=\"background-color: rgba(255, 0, 0, 0.6959208607673645); padding: 2px 4px; margin: 2px; border-radius: 3px; font-weight: bold;\" title=\"30000.1777\">ap</span><span style=\"background-color: rgba(0, 0, 255, 0.33795335739850996); padding: 2px 4px; margin: 2px; border-radius: 3px; font-weight: bold;\" title=\"2875.8459\">)</span><span style=\"background-color: rgba(0, 0, 255, 0.3619566448032856); padding: 2px 4px; margin: 2px; border-radius: 3px; font-weight: bold;\" title=\"4694.6509\">—</span><span style=\"padding: 2px; margin: 2px;\">the</span><span style=\"background-color: rgba(255, 0, 0, 0.5786290824413299); padding: 2px 4px; margin: 2px; border-radius: 3px; font-weight: bold;\" title=\"21112.6074\">interstate</span><span style=\"background-color: rgba(255, 0, 0, 0.5130753457546233); padding: 2px 4px; margin: 2px; border-radius: 3px; font-weight: bold;\" title=\"16145.3936\">commerce</span><span style=\"padding: 2px; margin: 2px;\">commission</span><span style=\"background-color: rgba(255, 0, 0, 0.45980461090803143); padding: 2px 4px; margin: 2px; border-radius: 3px; font-weight: bold;\" title=\"12108.9014\">refused</span><span style=\"background-color: rgba(255, 0, 0, 0.512549215555191); padding: 2px 4px; margin: 2px; border-radius: 3px; font-weight: bold;\" title=\"16105.5273\">friday</span><span style=\"background-color: rgba(0, 0, 255, 0.3654122062027454); padding: 2px 4px; margin: 2px; border-radius: 3px; font-weight: bold;\" title=\"4956.4897\">to</span><span style=\"padding: 2px; margin: 2px;\">block</span><span style=\"background-color: rgba(255, 0, 0, 0.5667234152555465); padding: 2px 4px; margin: 2px; border-radius: 3px; font-weight: bold;\" title=\"20210.4766\">increases</span><span style=\"background-color: rgba(0, 0, 255, 0.36944460719823835); padding: 2px 4px; margin: 2px; border-radius: 3px; font-weight: bold;\" title=\"5262.0376\">in</span><span style=\"background-color: rgba(255, 0, 0, 0.45563513338565825); padding: 2px 4px; margin: 2px; border-radius: 3px; font-weight: bold;\" title=\"11792.9668\">truck</span><span style=\"background-color: rgba(255, 0, 0, 0.5980740368366242); padding: 2px 4px; margin: 2px; border-radius: 3px; font-weight: bold;\" title=\"22586.0137\">freight</span><span style=\"background-color: rgba(255, 0, 0, 0.5228731960058212); padding: 2px 4px; margin: 2px; border-radius: 3px; font-weight: bold;\" title=\"16887.8066\">rates</span><span style=\"padding: 2px; margin: 2px;\">set</span><span style=\"background-color: rgba(0, 0, 255, 0.37080627158284185); padding: 2px 4px; margin: 2px; border-radius: 3px; font-weight: bold;\" title=\"5365.2153\">to</span><span style=\"padding: 2px; margin: 2px;\">take</span><span style=\"padding: 2px; margin: 2px;\">effect</span><span style=\"padding: 2px; margin: 2px;\">april</span><span style=\"background-color: rgba(0, 0, 255, 0.3363779917359352); padding: 2px 4px; margin: 2px; border-radius: 3px; font-weight: bold;\" title=\"2756.4756\">1</span><span style=\"background-color: rgba(0, 0, 255, 0.3708825834095478); padding: 2px 4px; margin: 2px; border-radius: 3px; font-weight: bold;\" title=\"5370.9976\">in</span><span style=\"padding: 2px; margin: 2px;\">23</span><span style=\"padding: 2px; margin: 2px;\">states</span><span style=\"background-color: rgba(0, 0, 255, 0.3372198443859815); padding: 2px 4px; margin: 2px; border-radius: 3px; font-weight: bold;\" title=\"2820.2654\">,</span><span style=\"padding: 2px; margin: 2px;\">including</span><span style=\"background-color: rgba(255, 0, 0, 0.5079283237457275); padding: 2px 4px; margin: 2px; border-radius: 3px; font-weight: bold;\" title=\"15755.3867\">iowa</span><span style=\"background-color: rgba(0, 0, 255, 0.3344188790768385); padding: 2px 4px; margin: 2px; border-radius: 3px; font-weight: bold;\" title=\"2608.0273\">.</span><span style=\"padding: 2px; margin: 2px;\">in</span><span style=\"padding: 2px; margin: 2px;\">an</span><span style=\"background-color: rgba(255, 0, 0, 0.5153542697429656); padding: 2px 4px; margin: 2px; border-radius: 3px; font-weight: bold;\" title=\"16318.0752\">unusual</span><span style=\"padding: 2px; margin: 2px;\">action</span><span style=\"padding: 2px; margin: 2px;\">the</span><span style=\"padding: 2px; margin: 2px;\">entire</span><span style=\"padding: 2px; margin: 2px;\">commission</span><span style=\"padding: 2px; margin: 2px;\">took</span><span style=\"padding: 2px; margin: 2px;\">up</span><span style=\"padding: 2px; margin: 2px;\">the</span><span style=\"padding: 2px; margin: 2px;\">case</span><span style=\"background-color: rgba(0, 0, 255, 0.36018214449286456); padding: 2px 4px; margin: 2px; border-radius: 3px; font-weight: bold;\" title=\"4560.1914\">—</span><span style=\"padding: 2px; margin: 2px;\">rather</span><span style=\"padding: 2px; margin: 2px;\">than</span><span style=\"padding: 2px; margin: 2px;\">just</span><span style=\"background-color: rgba(0, 0, 255, 0.34686324298381804); padding: 2px 4px; margin: 2px; border-radius: 3px; font-weight: bold;\" title=\"3550.9761\">a</span><span style=\"padding: 2px; margin: 2px;\">three</span><span style=\"background-color: rgba(0, 0, 255, 0.3487269528210163); padding: 2px 4px; margin: 2px; border-radius: 3px; font-weight: bold;\" title=\"3692.1956\">-</span><span style=\"padding: 2px; margin: 2px;\">member</span><span style=\"background-color: rgba(255, 0, 0, 0.6077521413564682); padding: 2px 4px; margin: 2px; border-radius: 3px; font-weight: bold;\" title=\"23319.3535\">panel</span><span style=\"padding: 2px; margin: 2px;\">of</span><span style=\"background-color: rgba(255, 0, 0, 0.9363554775714873); padding: 2px 4px; margin: 2px; border-radius: 3px; font-weight: bold;\" title=\"48218.6680\">commissioners</span><span style=\"background-color: rgba(0, 0, 255, 0.35432891473174094); padding: 2px 4px; margin: 2px; border-radius: 3px; font-weight: bold;\" title=\"4116.6738\">.</span><span style=\"padding: 2px; margin: 2px;\">the</span><span style=\"background-color: rgba(255, 0, 0, 0.5094496995210647); padding: 2px 4px; margin: 2px; border-radius: 3px; font-weight: bold;\" title=\"15870.6670\">vote</span><span style=\"padding: 2px; margin: 2px;\">was</span><span style=\"background-color: rgba(0, 0, 255, 0.3504446573555469); padding: 2px 4px; margin: 2px; border-radius: 3px; font-weight: bold;\" title=\"3822.3513\">6</span><span style=\"padding: 2px; margin: 2px;\">to</span><span style=\"background-color: rgba(0, 0, 255, 0.3511783972382545); padding: 2px 4px; margin: 2px; border-radius: 3px; font-weight: bold;\" title=\"3877.9492\">3</span><span style=\"background-color: rgba(0, 0, 255, 0.34994540736079216); padding: 2px 4px; margin: 2px; border-radius: 3px; font-weight: bold;\" title=\"3784.5217\">,</span><span style=\"padding: 2px; margin: 2px;\">but</span><span style=\"padding: 2px; margin: 2px;\">it</span><span style=\"padding: 2px; margin: 2px;\">could</span><span style=\"padding: 2px; margin: 2px;\">not</span><span style=\"padding: 2px; margin: 2px;\">be</span><span style=\"background-color: rgba(255, 0, 0, 0.5267789721488952); padding: 2px 4px; margin: 2px; border-radius: 3px; font-weight: bold;\" title=\"17183.7598\">learned</span><span style=\"padding: 2px; margin: 2px;\">how</span><span style=\"background-color: rgba(255, 0, 0, 0.48658049702644346); padding: 2px 4px; margin: 2px; border-radius: 3px; font-weight: bold;\" title=\"14137.7939\">individual</span><span style=\"background-color: rgba(255, 0, 0, 1.0); padding: 2px 4px; margin: 2px; border-radius: 3px; font-weight: bold;\" title=\"53041.2148\">commissioners</span><span style=\"background-color: rgba(255, 0, 0, 0.5297797918319702); padding: 2px 4px; margin: 2px; border-radius: 3px; font-weight: bold;\" title=\"17411.1426\">cast</span><span style=\"background-color: rgba(255, 0, 0, 0.427341490983963); padding: 2px 4px; margin: 2px; border-radius: 3px; font-weight: bold;\" title=\"9649.0674\">their</span><span style=\"background-color: rgba(255, 0, 0, 0.5832991659641266); padding: 2px 4px; margin: 2px; border-radius: 3px; font-weight: bold;\" title=\"21466.4746\">votes</span><span style=\"background-color: rgba(0, 0, 255, 0.36081779301166533); padding: 2px 4px; margin: 2px; border-radius: 3px; font-weight: bold;\" title=\"4608.3564\">.</span></div>"
      ],
      "text/plain": [
       "<IPython.core.display.HTML object>"
      ]
     },
     "metadata": {},
     "output_type": "display_data"
    },
    {
     "data": {
      "image/png": "[encoded data removed]",
      "text/plain": [
       "<Figure size 1200x400 with 1 Axes>"
      ]
     },
     "metadata": {},
     "output_type": "display_data"
    }
   ],
   "source": [
    "# Visualize for each predicted class\n",
    "for class_idx in predicted_indices:\n",
    "    print(\"\\n\" + \"=\"*100)\n",
    "    print(f\"CLASS: {category_names[class_idx].upper()} (Probability: {probabilities[0, class_idx]:.4f})\")\n",
    "    print(\"=\"*100)\n",
    "    \n",
    "    # Get integrated gradients for this class\n",
    "    ig = all_integrated_grads[class_idx][0].cpu().numpy()[:actual_length]\n",
    "    \n",
    "    # Print statistics\n",
    "    print(f\"\\nAttribution Statistics:\")\n",
    "    print(f\"  Max: {ig.max():.4f}\")\n",
    "    print(f\"  Min: {ig.min():.4f}\")\n",
    "    print(f\"  Mean: {ig.mean():.4f}\")\n",
    "    print(f\"  Std: {ig.std():.4f}\")\n",
    "    \n",
    "    # Show top 20 positive attributions\n",
    "    top_indices = np.argsort(ig)[-20:][::-1]\n",
    "    print(f\"\\nTop 20 Positive Attributions (Red):\")\n",
    "    for idx in top_indices:\n",
    "        if tokens[idx] not in ['[CLS]', '[SEP]', '[PAD]']:\n",
    "            print(f\"  {tokens[idx]:20s}: {ig[idx]:.4f}\")\n",
    "    \n",
    "    # Show top 20 negative attributions\n",
    "    bottom_indices = np.argsort(ig)[:20]\n",
    "    print(f\"\\nTop 20 Negative Attributions (Blue):\")\n",
    "    for idx in bottom_indices:\n",
    "        if tokens[idx] not in ['[CLS]', '[SEP]', '[PAD]']:\n",
    "            print(f\"  {tokens[idx]:20s}: {ig[idx]:.4f}\")\n",
    "    \n",
    "    # Visualize highlighted text\n",
    "    print(f\"\\nHighlighted Text (hover for attribution scores):\")\n",
    "    print(f\"Red = Positive attribution (supports this class)\")\n",
    "    print(f\"Blue = Negative attribution (against this class)\\n\")\n",
    "    \n",
    "    html = highlight_tokens(tokens, ig, top_k=20)\n",
    "    display(HTML(html))\n",
    "    \n",
    "    # Plot distribution\n",
    "    plt.figure(figsize=(12, 4))\n",
    "    plt.hist(ig, bins=50, edgecolor='black')\n",
    "    plt.xlabel('Attribution Score')\n",
    "    plt.ylabel('Frequency')\n",
    "    plt.title(f'Distribution of Integrated Gradients - {category_names[class_idx]}')\n",
    "    plt.axvline(x=0, color='r', linestyle='--', label='Zero Attribution')\n",
    "    plt.legend()\n",
    "    plt.grid(True, alpha=0.3)\n",
    "    plt.tight_layout()\n",
    "    plt.show()"
   ]
  },
  {
   "cell_type": "markdown",
   "metadata": {},
   "source": [
    "## Summary\n",
    "\n",
    "This notebook demonstrates how to use Integrated Gradients to interpret text classification predictions:\n",
    "\n",
    "1. **Positive attributions (red)**: Tokens that increase the probability of the predicted class\n",
    "2. **Negative attributions (blue)**: Tokens that decrease the probability of the predicted class\n",
    "\n",
    "The baseline used is an empty text (all padding tokens except CLS and SEP), which helps identify which tokens in the input contribute most to the model's prediction."
   ]
  },
  {
   "cell_type": "code",
   "execution_count": null,
   "metadata": {},
   "outputs": [],
   "source": []
  }
 ],
 "metadata": {
  "kernelspec": {
   "display_name": "Python 3 (ipykernel)",
   "language": "python",
   "name": "python3"
  },
  "language_info": {
   "codemirror_mode": {
    "name": "ipython",
    "version": 3
   },
   "file_extension": ".py",
   "mimetype": "text/x-python",
   "name": "python",
   "nbconvert_exporter": "python",
   "pygments_lexer": "ipython3",
   "version": "3.12.2"
  }
 },
 "nbformat": 4,
 "nbformat_minor": 4
}
