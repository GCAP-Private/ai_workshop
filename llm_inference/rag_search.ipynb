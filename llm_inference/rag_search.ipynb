{
 "cells": [
  {
   "cell_type": "code",
   "execution_count": 1,
   "id": "669cadaf-d78d-481d-99e5-8726fc1f6edd",
   "metadata": {
    "tags": []
   },
   "outputs": [],
   "source": [
    "import pandas as pd\n",
    "import numpy as np\n",
    "import faiss\n",
    "import torch\n",
    "from sentence_transformers import SentenceTransformer"
   ]
  },
  {
   "cell_type": "code",
   "execution_count": 2,
   "id": "40bc06bd-ff26-42b1-ad26-9ca419d4ff6a",
   "metadata": {
    "tags": []
   },
   "outputs": [
    {
     "data": {
      "text/html": [
       "<div>\n",
       "<style scoped>\n",
       "    .dataframe tbody tr th:only-of-type {\n",
       "        vertical-align: middle;\n",
       "    }\n",
       "\n",
       "    .dataframe tbody tr th {\n",
       "        vertical-align: top;\n",
       "    }\n",
       "\n",
       "    .dataframe thead th {\n",
       "        text-align: right;\n",
       "    }\n",
       "</style>\n",
       "<table border=\"1\" class=\"dataframe\">\n",
       "  <thead>\n",
       "    <tr style=\"text-align: right;\">\n",
       "      <th></th>\n",
       "      <th>fsym_id</th>\n",
       "      <th>isin</th>\n",
       "      <th>issuance_currency</th>\n",
       "      <th>mat_date_q</th>\n",
       "      <th>iss_date_q</th>\n",
       "      <th>mat_date_d</th>\n",
       "      <th>iss_date_d</th>\n",
       "      <th>factset_entity_id</th>\n",
       "      <th>entity_name</th>\n",
       "      <th>iso_country</th>\n",
       "      <th>coupon_rate</th>\n",
       "      <th>summary</th>\n",
       "      <th>summary_embedding</th>\n",
       "    </tr>\n",
       "  </thead>\n",
       "  <tbody>\n",
       "    <tr>\n",
       "      <th>0</th>\n",
       "      <td>CPN1XX-S</td>\n",
       "      <td>JP376542ANJ5</td>\n",
       "      <td>JPY</td>\n",
       "      <td>2027-04-01</td>\n",
       "      <td>2022-04-01</td>\n",
       "      <td>2027-06-18</td>\n",
       "      <td>2022-06-20</td>\n",
       "      <td>08ZVB2-E</td>\n",
       "      <td>&amp;DO HOLDINGS CO LTD</td>\n",
       "      <td>JPN</td>\n",
       "      <td>0.52</td>\n",
       "      <td>&amp;DO HOLDINGS CO LTD: Maturity Date 2027-06-18 ...</td>\n",
       "      <td>[-0.024423853, 0.03775837, -0.0051595797, -0.0...</td>\n",
       "    </tr>\n",
       "    <tr>\n",
       "      <th>1</th>\n",
       "      <td>DB1NV0-S</td>\n",
       "      <td>JP376542ANP2</td>\n",
       "      <td>JPY</td>\n",
       "      <td>2027-10-01</td>\n",
       "      <td>2022-10-01</td>\n",
       "      <td>2027-11-25</td>\n",
       "      <td>2022-11-25</td>\n",
       "      <td>08ZVB2-E</td>\n",
       "      <td>&amp;DO HOLDINGS CO LTD</td>\n",
       "      <td>JPN</td>\n",
       "      <td>0.43</td>\n",
       "      <td>&amp;DO HOLDINGS CO LTD: Maturity Date 2027-11-25 ...</td>\n",
       "      <td>[-0.018307377, 0.03722839, -0.0063556195, -0.0...</td>\n",
       "    </tr>\n",
       "    <tr>\n",
       "      <th>2</th>\n",
       "      <td>QSX908-S</td>\n",
       "      <td>JP376542APM4</td>\n",
       "      <td>JPY</td>\n",
       "      <td>2028-07-01</td>\n",
       "      <td>2023-07-01</td>\n",
       "      <td>2028-09-25</td>\n",
       "      <td>2023-09-25</td>\n",
       "      <td>08ZVB2-E</td>\n",
       "      <td>&amp;DO HOLDINGS CO LTD</td>\n",
       "      <td>JPN</td>\n",
       "      <td>0.47</td>\n",
       "      <td>&amp;DO HOLDINGS CO LTD: Maturity Date 2028-09-25 ...</td>\n",
       "      <td>[-0.020252984, 0.039390735, -0.0020778805, -0....</td>\n",
       "    </tr>\n",
       "    <tr>\n",
       "      <th>3</th>\n",
       "      <td>W8NLN3-S</td>\n",
       "      <td>JP376542AQF6</td>\n",
       "      <td>JPY</td>\n",
       "      <td>2027-01-01</td>\n",
       "      <td>2024-01-01</td>\n",
       "      <td>2027-03-27</td>\n",
       "      <td>2024-03-27</td>\n",
       "      <td>08ZVB2-E</td>\n",
       "      <td>&amp;DO HOLDINGS CO LTD</td>\n",
       "      <td>JPN</td>\n",
       "      <td>1.31</td>\n",
       "      <td>&amp;DO HOLDINGS CO LTD: Maturity Date 2027-03-27 ...</td>\n",
       "      <td>[-0.019532233, 0.036194503, -0.005714808, -0.0...</td>\n",
       "    </tr>\n",
       "    <tr>\n",
       "      <th>4</th>\n",
       "      <td>KZYCNM-S</td>\n",
       "      <td>JP376542AQE9</td>\n",
       "      <td>JPY</td>\n",
       "      <td>2029-01-01</td>\n",
       "      <td>2024-01-01</td>\n",
       "      <td>2029-02-20</td>\n",
       "      <td>2024-02-20</td>\n",
       "      <td>08ZVB2-E</td>\n",
       "      <td>&amp;DO HOLDINGS CO LTD</td>\n",
       "      <td>JPN</td>\n",
       "      <td>0.39</td>\n",
       "      <td>&amp;DO HOLDINGS CO LTD: Maturity Date 2029-02-20 ...</td>\n",
       "      <td>[-0.022470271, 0.04027177, -0.0033593718, -0.0...</td>\n",
       "    </tr>\n",
       "  </tbody>\n",
       "</table>\n",
       "</div>"
      ],
      "text/plain": [
       "    fsym_id          isin issuance_currency mat_date_q iss_date_q mat_date_d  \\\n",
       "0  CPN1XX-S  JP376542ANJ5               JPY 2027-04-01 2022-04-01 2027-06-18   \n",
       "1  DB1NV0-S  JP376542ANP2               JPY 2027-10-01 2022-10-01 2027-11-25   \n",
       "2  QSX908-S  JP376542APM4               JPY 2028-07-01 2023-07-01 2028-09-25   \n",
       "3  W8NLN3-S  JP376542AQF6               JPY 2027-01-01 2024-01-01 2027-03-27   \n",
       "4  KZYCNM-S  JP376542AQE9               JPY 2029-01-01 2024-01-01 2029-02-20   \n",
       "\n",
       "  iss_date_d factset_entity_id          entity_name iso_country  coupon_rate  \\\n",
       "0 2022-06-20          08ZVB2-E  &DO HOLDINGS CO LTD         JPN         0.52   \n",
       "1 2022-11-25          08ZVB2-E  &DO HOLDINGS CO LTD         JPN         0.43   \n",
       "2 2023-09-25          08ZVB2-E  &DO HOLDINGS CO LTD         JPN         0.47   \n",
       "3 2024-03-27          08ZVB2-E  &DO HOLDINGS CO LTD         JPN         1.31   \n",
       "4 2024-02-20          08ZVB2-E  &DO HOLDINGS CO LTD         JPN         0.39   \n",
       "\n",
       "                                             summary  \\\n",
       "0  &DO HOLDINGS CO LTD: Maturity Date 2027-06-18 ...   \n",
       "1  &DO HOLDINGS CO LTD: Maturity Date 2027-11-25 ...   \n",
       "2  &DO HOLDINGS CO LTD: Maturity Date 2028-09-25 ...   \n",
       "3  &DO HOLDINGS CO LTD: Maturity Date 2027-03-27 ...   \n",
       "4  &DO HOLDINGS CO LTD: Maturity Date 2029-02-20 ...   \n",
       "\n",
       "                                   summary_embedding  \n",
       "0  [-0.024423853, 0.03775837, -0.0051595797, -0.0...  \n",
       "1  [-0.018307377, 0.03722839, -0.0063556195, -0.0...  \n",
       "2  [-0.020252984, 0.039390735, -0.0020778805, -0....  \n",
       "3  [-0.019532233, 0.036194503, -0.005714808, -0.0...  \n",
       "4  [-0.022470271, 0.04027177, -0.0033593718, -0.0...  "
      ]
     },
     "execution_count": 2,
     "metadata": {},
     "output_type": "execute_result"
    }
   ],
   "source": [
    "gcap_data = \"/oak/stanford/groups/maggiori/GCAP/data\"\n",
    "df_bonds = pd.read_parquet(f\"{gcap_data}/ecb1/temp/bond_isin_with_embeddings.parquet\")\n",
    "df_bonds.head()"
   ]
  },
  {
   "cell_type": "code",
   "execution_count": 3,
   "id": "8a53f864-1fa5-4a21-aa67-476138894879",
   "metadata": {},
   "outputs": [
    {
     "data": {
      "text/plain": [
       "(851092, 1024)"
      ]
     },
     "execution_count": 3,
     "metadata": {},
     "output_type": "execute_result"
    }
   ],
   "source": [
    "summary_embeddings = np.stack(df_bonds['summary_embedding'])\n",
    "summary_embeddings.shape"
   ]
  },
  {
   "cell_type": "code",
   "execution_count": 4,
   "id": "1ef89454-be88-4f9c-a8dc-04f1e29f1c24",
   "metadata": {},
   "outputs": [
    {
     "name": "stdout",
     "output_type": "stream",
     "text": [
      "True\n",
      "851092\n"
     ]
    }
   ],
   "source": [
    "d = 1024\n",
    "index = faiss.IndexFlatL2(d) \n",
    "print(index.is_trained)\n",
    "index.add(summary_embeddings) \n",
    "print(index.ntotal)"
   ]
  },
  {
   "cell_type": "code",
   "execution_count": 5,
   "id": "b9b3bde8-3eb1-4ba5-8870-ad858b0f65f3",
   "metadata": {},
   "outputs": [
    {
     "data": {
      "text/html": [
       "<div>\n",
       "<style scoped>\n",
       "    .dataframe tbody tr th:only-of-type {\n",
       "        vertical-align: middle;\n",
       "    }\n",
       "\n",
       "    .dataframe tbody tr th {\n",
       "        vertical-align: top;\n",
       "    }\n",
       "\n",
       "    .dataframe thead th {\n",
       "        text-align: right;\n",
       "    }\n",
       "</style>\n",
       "<table border=\"1\" class=\"dataframe\">\n",
       "  <thead>\n",
       "    <tr style=\"text-align: right;\">\n",
       "      <th></th>\n",
       "      <th>name</th>\n",
       "      <th>market_value</th>\n",
       "      <th>net_assets</th>\n",
       "      <th>fund_isin</th>\n",
       "      <th>date_q</th>\n",
       "      <th>ISIN</th>\n",
       "    </tr>\n",
       "  </thead>\n",
       "  <tbody>\n",
       "    <tr>\n",
       "      <th>0</th>\n",
       "      <td>3M 0.95%</td>\n",
       "      <td>2635.0</td>\n",
       "      <td>0.25</td>\n",
       "      <td>LU2051031982</td>\n",
       "      <td>2021q4</td>\n",
       "      <td>NaN</td>\n",
       "    </tr>\n",
       "    <tr>\n",
       "      <th>1</th>\n",
       "      <td>3M 0.95%</td>\n",
       "      <td>3059.0</td>\n",
       "      <td>0.23</td>\n",
       "      <td>LU2051031982</td>\n",
       "      <td>2023q4</td>\n",
       "      <td>NaN</td>\n",
       "    </tr>\n",
       "    <tr>\n",
       "      <th>2</th>\n",
       "      <td>3M 0.95%</td>\n",
       "      <td>3096.0</td>\n",
       "      <td>0.23</td>\n",
       "      <td>LU2051031982</td>\n",
       "      <td>2022q4</td>\n",
       "      <td>NaN</td>\n",
       "    </tr>\n",
       "    <tr>\n",
       "      <th>3</th>\n",
       "      <td>A!ac Inc. 3.625% - 15/Nov/24</td>\n",
       "      <td>3305493.0</td>\n",
       "      <td>0.52</td>\n",
       "      <td>LU0323453950</td>\n",
       "      <td>2014q4</td>\n",
       "      <td>NaN</td>\n",
       "    </tr>\n",
       "    <tr>\n",
       "      <th>4</th>\n",
       "      <td>A2A SpA - Reg 1.000% 16/07/2029</td>\n",
       "      <td>312917.0</td>\n",
       "      <td>0.01</td>\n",
       "      <td>LU1720795126</td>\n",
       "      <td>2020q4</td>\n",
       "      <td>NaN</td>\n",
       "    </tr>\n",
       "  </tbody>\n",
       "</table>\n",
       "</div>"
      ],
      "text/plain": [
       "                              name  market_value  net_assets     fund_isin  \\\n",
       "0                         3M 0.95%        2635.0        0.25  LU2051031982   \n",
       "1                         3M 0.95%        3059.0        0.23  LU2051031982   \n",
       "2                         3M 0.95%        3096.0        0.23  LU2051031982   \n",
       "3     A!ac Inc. 3.625% - 15/Nov/24     3305493.0        0.52  LU0323453950   \n",
       "4  A2A SpA - Reg 1.000% 16/07/2029      312917.0        0.01  LU1720795126   \n",
       "\n",
       "   date_q ISIN  \n",
       "0  2021q4  NaN  \n",
       "1  2023q4  NaN  \n",
       "2  2022q4  NaN  \n",
       "3  2014q4  NaN  \n",
       "4  2020q4  NaN  "
      ]
     },
     "execution_count": 5,
     "metadata": {},
     "output_type": "execute_result"
    }
   ],
   "source": [
    "df_bond_holdings = pd.read_csv(\"/oak/stanford/groups/maggiori/GCAP/data/scratch/xwfeng/bond_holdings_with_isin.csv\")\n",
    "df_bond_holdings.head()"
   ]
  },
  {
   "cell_type": "code",
   "execution_count": 6,
   "id": "1e0a5b09-c931-46b9-8088-e41193ebbc3e",
   "metadata": {},
   "outputs": [
    {
     "data": {
      "text/plain": [
       "'ADLER Group 1.875%'"
      ]
     },
     "execution_count": 6,
     "metadata": {},
     "output_type": "execute_result"
    }
   ],
   "source": [
    "x = df_bond_holdings.iloc[35]\n",
    "bond_name = x[\"name\"]\n",
    "bond_name"
   ]
  },
  {
   "cell_type": "code",
   "execution_count": 9,
   "id": "2aca009f-18bb-4903-ac31-f2e18b9a73da",
   "metadata": {},
   "outputs": [],
   "source": [
    "device = torch.device(\"cuda\" if torch.cuda.is_available() else \"cpu\")\n",
    "#device = \"cpu\"\n",
    "model = SentenceTransformer('BAAI/bge-large-en-v1.5', device=device)\n",
    "\n",
    "xq = model.encode(bond_name).reshape(1, -1)\n",
    "k = 50                        \n",
    "D, I = index.search(xq, k) "
   ]
  },
  {
   "cell_type": "code",
   "execution_count": 10,
   "id": "3c9ef5d8-5056-40b3-a6b9-39d08c020a71",
   "metadata": {},
   "outputs": [
    {
     "data": {
      "text/plain": [
       "['ADLER GROUP SA: Maturity Date 2026-01-14 00:00:00, Coupon Rate 1.875%, Currency EUR, ISIN number is XS2283224231',\n",
       " 'ADLER GROUP SA: Maturity Date 2029-01-14 00:00:00, Coupon Rate 2.25%, Currency EUR, ISIN number is XS2283225477',\n",
       " 'ADLER GROUP SA: Maturity Date 2026-11-13 00:00:00, Coupon Rate 2.75%, Currency EUR, ISIN number is XS2248826294',\n",
       " 'ADLER GROUP SA: Maturity Date 2023-11-23 00:00:00, Coupon Rate 2.0%, Currency EUR, ISIN number is DE000A2RUD79',\n",
       " 'ADLER GROUP SA: Maturity Date 2025-07-31 00:00:00, Coupon Rate nan%, Currency EUR, ISIN number is DE000A3LMVH5',\n",
       " 'ADLER FINANCING SARL: Maturity Date 2028-12-31 00:00:00, Coupon Rate 6.25%, Currency EUR, ISIN number is DE000A3L3AD6',\n",
       " 'ADLER FINANCING SARL: Maturity Date 2025-06-30 00:00:00, Coupon Rate 12.5%, Currency EUR, ISIN number is DE000A3LF6J0',\n",
       " 'ADLER REAL ESTATE GMBH: Maturity Date 2021-12-06 00:00:00, Coupon Rate 1.5%, Currency EUR, ISIN number is XS1731858392',\n",
       " 'ADLER FINANCING SARL: Maturity Date 2029-12-31 00:00:00, Coupon Rate 7.0%, Currency EUR, ISIN number is DE000A3L3AF1',\n",
       " 'ADLER REAL ESTATE GMBH: Maturity Date 2018-04-03 00:00:00, Coupon Rate 8.75%, Currency EUR, ISIN number is DE000A1R1A42',\n",
       " 'ADLER REAL ESTATE GMBH: Maturity Date 2023-04-27 00:00:00, Coupon Rate 1.875%, Currency EUR, ISIN number is XS1713464441',\n",
       " 'ADLER REAL ESTATE GMBH: Maturity Date 2021-07-19 00:00:00, Coupon Rate 2.5%, Currency EUR, ISIN number is DE000A161XW6',\n",
       " 'ADLER REAL ESTATE GMBH: Maturity Date 2018-12-27 00:00:00, Coupon Rate 6.0%, Currency EUR, ISIN number is DE000A1YCMH2',\n",
       " 'ADLER FINANCING SARL: Maturity Date 2029-12-31 00:00:00, Coupon Rate nan%, Currency EUR, ISIN number is DE000A4D6JB3',\n",
       " 'ADLER PELZER HOLDING GMBH: Maturity Date 2021-07-15 00:00:00, Coupon Rate 7.5%, Currency EUR, ISIN number is XS1028947585',\n",
       " 'ADLER REAL ESTATE GMBH: Maturity Date 2019-04-01 00:00:00, Coupon Rate 6.0%, Currency EUR, ISIN number is DE000A11QF02',\n",
       " 'ADLER REAL ESTATE GMBH: Maturity Date 2024-02-06 00:00:00, Coupon Rate 2.125%, Currency EUR, ISIN number is XS1731858715',\n",
       " 'ADLER REAL ESTATE GMBH: Maturity Date 2022-04-17 00:00:00, Coupon Rate 1.5%, Currency EUR, ISIN number is XS1843441491',\n",
       " 'ADLER PELZER HOLDING GMBH: Maturity Date 2024-04-01 00:00:00, Coupon Rate 4.125%, Currency EUR, ISIN number is XS1533914591',\n",
       " 'ADLER FINANCING SARL: Maturity Date 2029-12-31 00:00:00, Coupon Rate nan%, Currency EUR, ISIN number is DE000A3L3AE4',\n",
       " 'ADLER FINANCING SARL: Maturity Date 2028-12-31 00:00:00, Coupon Rate nan%, Currency EUR, ISIN number is DE000A4D5RA0',\n",
       " 'ADLER REAL ESTATE GMBH: Maturity Date 2020-04-08 00:00:00, Coupon Rate 4.75%, Currency EUR, ISIN number is XS1211417362',\n",
       " 'ADLER PELZER HOLDING GMBH: Maturity Date 2024-04-01 00:00:00, Coupon Rate 4.125%, Currency EUR, ISIN number is XS2343857988',\n",
       " 'ADLER PELZER HOLDING GMBH: Maturity Date 2027-04-01 00:00:00, Coupon Rate 9.5%, Currency EUR, ISIN number is XS2623604233',\n",
       " 'ADLER REAL ESTATE GMBH: Maturity Date 2017-06-30 00:00:00, Coupon Rate 6.0%, Currency EUR, ISIN number is DE000A1TNEE3',\n",
       " 'ADLER REAL ESTATE GMBH: Maturity Date 2018-12-28 00:00:00, Coupon Rate 0.5%, Currency EUR, ISIN number is DE000A161ZA7',\n",
       " 'ADLER REAL ESTATE GMBH: Maturity Date 2026-04-27 00:00:00, Coupon Rate 3.0%, Currency EUR, ISIN number is XS1713464524',\n",
       " 'STRAUSS GROUP LTD: Maturity Date 2018-02-01 00:00:00, Coupon Rate 4.099999904632568%, Currency ILS, ISIN number is IL0074601407',\n",
       " 'STRAUSS GROUP LTD: Maturity Date 2037-06-30 00:00:00, Coupon Rate 1.899999976158142%, Currency ILS, ISIN number is IL0074604211',\n",
       " 'VECTOR GROUP LTD: Maturity Date 2026-06-15 00:00:00, Coupon Rate 3.875%, Currency USD, ISIN number is US92240MAL28',\n",
       " 'VECTOR GROUP LTD: Maturity Date 2014-11-15 00:00:00, Coupon Rate 6.75%, Currency USD, ISIN number is US92240MAS70',\n",
       " 'GOLDMAN SACHS GROUP INC: Maturity Date 2015-03-18 00:00:00, Coupon Rate 1.75%, Currency CHF, ISIN number is XS0489910504',\n",
       " 'AX INVESTMENTS PLC: Maturity Date 2016-12-15 00:00:00, Coupon Rate 6.699999809265137%, Currency EUR, ISIN number is MT0000081217',\n",
       " 'JIANGSU GUOXIN INVESTMENT GROUP LTD: Maturity Date 2014-06-18 00:00:00, Coupon Rate 4.099999904632568%, Currency CNY, ISIN number is CND100003BM4',\n",
       " 'GENERAL ELECTRIC CAPITAL CORP: Maturity Date 2014-05-07 00:00:00, Coupon Rate 3.875%, Currency CHF, ISIN number is CH0012221922',\n",
       " 'JIANGSU GUOXIN INVESTMENT GROUP LTD: Maturity Date 2021-01-22 00:00:00, Coupon Rate 1.7000000476837158%, Currency CNY, ISIN number is CND100035L63',\n",
       " 'JIANGSU GUOXIN INVESTMENT GROUP LTD: Maturity Date 2021-01-22 00:00:00, Coupon Rate 1.7000000476837158%, Currency CNY, ISIN number is CND100035L71',\n",
       " 'JIANGSU GUOXIN INVESTMENT GROUP LTD: Maturity Date 2015-03-10 00:00:00, Coupon Rate 4.690000057220459%, Currency CNY, ISIN number is CND100002CY9',\n",
       " 'JIANGSU GUOXIN INVESTMENT GROUP LTD: Maturity Date 2021-04-25 00:00:00, Coupon Rate 4.690000057220459%, Currency CNY, ISIN number is CND100016KT2',\n",
       " 'JIANGSU GUOXIN INVESTMENT GROUP LTD: Maturity Date 2015-03-21 00:00:00, Coupon Rate 6.179999828338623%, Currency CNY, ISIN number is CNFDS0W2MG85',\n",
       " 'JIANGSU GUOXIN INVESTMENT GROUP LTD: Maturity Date 2021-05-20 00:00:00, Coupon Rate 2.549999952316284%, Currency CNY, ISIN number is CND100043YR1',\n",
       " 'JIANGSU GUOXIN INVESTMENT GROUP LTD: Maturity Date 2021-04-13 00:00:00, Coupon Rate 4.840000152587891%, Currency CNY, ISIN number is CND1000164D9',\n",
       " 'JIANGSU GUOXIN INVESTMENT GROUP LTD: Maturity Date 2021-11-01 00:00:00, Coupon Rate 3.9800000190734863%, Currency CNY, ISIN number is CND10001QSM0',\n",
       " 'JIANGSU GUOXIN INVESTMENT GROUP LTD: Maturity Date 2021-04-11 00:00:00, Coupon Rate 1.850000023841858%, Currency CNY, ISIN number is CND10003GCX8',\n",
       " 'JIANGSU GUOXIN INVESTMENT GROUP LTD: Maturity Date 2021-04-14 00:00:00, Coupon Rate 2.049999952316284%, Currency CNY, ISIN number is CND10003RZ61',\n",
       " 'JIANGSU GUOXIN INVESTMENT GROUP LTD: Maturity Date 2021-10-28 00:00:00, Coupon Rate 2.450000047683716%, Currency CNY, ISIN number is CND10004HPW8',\n",
       " 'JIANGSU GUOXIN INVESTMENT GROUP LTD: Maturity Date 2017-06-08 00:00:00, Coupon Rate 4.599999904632568%, Currency CNY, ISIN number is CND100005BP2',\n",
       " 'JIANGSU GUOXIN INVESTMENT GROUP LTD: Maturity Date 2018-09-26 00:00:00, Coupon Rate 4.679999828338623%, Currency CNY, ISIN number is CND100017QL4',\n",
       " 'GENERAL ELECTRIC CAPITAL CORP: Maturity Date 2017-02-27 00:00:00, Coupon Rate 2.875%, Currency CHF, ISIN number is CH0028944681',\n",
       " 'JIANGSU GUOXIN INVESTMENT GROUP LTD: Maturity Date 2018-08-07 00:00:00, Coupon Rate 4.800000190734863%, Currency CNY, ISIN number is CND100015SB5']"
      ]
     },
     "execution_count": 10,
     "metadata": {},
     "output_type": "execute_result"
    }
   ],
   "source": [
    "top_matches = df_bonds.iloc[I[0]]['summary'].tolist()\n",
    "top_matches"
   ]
  },
  {
   "cell_type": "code",
   "execution_count": 11,
   "id": "04493b6e-7e03-4032-b1eb-511b3926ae0d",
   "metadata": {},
   "outputs": [],
   "source": [
    "from openai import OpenAI, AsyncOpenAI\n",
    "openai_api_key = \"None\"\n",
    "openai_api_base = \"http://sh04-06n05:12345/v1\"\n",
    "\n",
    "client = OpenAI(\n",
    "    api_key=openai_api_key,\n",
    "    base_url=openai_api_base,\n",
    "\n",
    ")"
   ]
  },
  {
   "cell_type": "code",
   "execution_count": 12,
   "id": "b48840ed-635c-4820-bbae-1342aa79e454",
   "metadata": {},
   "outputs": [],
   "source": [
    "bond_list = \"\\n*\".join(top_matches)\n",
    "sys_prompt = \"\"\"\n",
    "<|begin_of_text|><|start_header_id|>system<|end_header_id|>\n",
    "You are assisting my finding the matched ISIN number from a list bonds:\n",
    "{}\n",
    "Return the ISIN number in JSON format.\n",
    "<|end_of_text|>\n",
    "\"\"\".format(bond_list)\n",
    "user_prompt = \"\"\"\n",
    "<|begin_of_text|><|start_header_id|>user<|end_header_id|>\n",
    "Find the ISIN number for the bond below:\n",
    "<|start_bond_id|>\n",
    "{}\n",
    "<|end_bond_id|>\n",
    "<|end_of_text|> \"\"\".format(bond_name)"
   ]
  },
  {
   "cell_type": "code",
   "execution_count": 54,
   "id": "c6450a50-f4a7-477e-93d1-e0297c5893ba",
   "metadata": {},
   "outputs": [
    {
     "name": "stdout",
     "output_type": "stream",
     "text": [
      "Chat response:\n",
      " The ISIN number for the bond \"ABERTIS INFRSESTRUCTURAS FINANCE BV VAR PERPETUAL, ISSUE Date: 2023q4\" is not found in the provided list.\n",
      "\n",
      "However, I can suggest that the bond might be \"ISIN XS2644410214: Abertis Infraestructuras SA, SUB Senior Bond/Note, EUR, COUPON 4.125 %, ISSUE Date 2023q3\" which is close to the issue date you provided, but it's not an exact match.\n",
      "\n",
      "If you're looking for a specific ISIN number, I recommend checking the list again or providing more information about the bond.\n",
      "\n",
      "Here is the response in JSON format:\n",
      "```json\n",
      "{\n",
      "  \"ISIN\": null,\n",
      "  \"message\": \"ISIN number not found in the provided list.\"\n",
      "}\n",
      "```\n"
     ]
    }
   ],
   "source": [
    "chat_response = client.chat.completions.create(\n",
    "    model=\"/scratch/groups/maggiori/raw_model_weights/Llama-3.3-70B-Instruct-AWQ\",\n",
    "    messages=[\n",
    "        {\"role\": \"system\", \"content\": sys_prompt},\n",
    "        {\"role\": \"user\", \"content\": user_prompt},\n",
    "    ],\n",
    "    max_tokens=512,\n",
    "    temperature=0\n",
    ")\n",
    "\n",
    "llm_output = chat_response.choices[0].message.content\n",
    "print(\"Chat response:\\n\", llm_output)"
   ]
  },
  {
   "cell_type": "code",
   "execution_count": null,
   "id": "5b03bd4b-3bca-47fc-b062-080df122bbbf",
   "metadata": {},
   "outputs": [],
   "source": []
  }
 ],
 "metadata": {
  "kernelspec": {
   "display_name": "Python 3 (ipykernel)",
   "language": "python",
   "name": "python3"
  },
  "language_info": {
   "codemirror_mode": {
    "name": "ipython",
    "version": 3
   },
   "file_extension": ".py",
   "mimetype": "text/x-python",
   "name": "python",
   "nbconvert_exporter": "python",
   "pygments_lexer": "ipython3",
   "version": "3.12.2"
  }
 },
 "nbformat": 4,
 "nbformat_minor": 5
}
