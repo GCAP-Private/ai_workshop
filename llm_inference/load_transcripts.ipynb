{
 "cells": [
  {
   "cell_type": "code",
   "execution_count": 1,
   "id": "3e106882-abfa-4f95-8f3e-b6542a31f2bf",
   "metadata": {
    "tags": []
   },
   "outputs": [],
   "source": [
    "import pandas as pd"
   ]
  },
  {
   "cell_type": "code",
   "execution_count": 2,
   "id": "8a932910-4557-4db1-8e20-10615ee6ba13",
   "metadata": {
    "tags": []
   },
   "outputs": [
    {
     "data": {
      "text/html": [
       "<div>\n",
       "<style scoped>\n",
       "    .dataframe tbody tr th:only-of-type {\n",
       "        vertical-align: middle;\n",
       "    }\n",
       "\n",
       "    .dataframe tbody tr th {\n",
       "        vertical-align: top;\n",
       "    }\n",
       "\n",
       "    .dataframe thead th {\n",
       "        text-align: right;\n",
       "    }\n",
       "</style>\n",
       "<table border=\"1\" class=\"dataframe\">\n",
       "  <thead>\n",
       "    <tr style=\"text-align: right;\">\n",
       "      <th></th>\n",
       "      <th>key</th>\n",
       "      <th>date</th>\n",
       "      <th>companyname_primary</th>\n",
       "      <th>companyid_primary</th>\n",
       "      <th>gvkey_primary</th>\n",
       "      <th>companynames</th>\n",
       "      <th>companyids</th>\n",
       "      <th>gvkeys</th>\n",
       "      <th>version_date</th>\n",
       "    </tr>\n",
       "  </thead>\n",
       "  <tbody>\n",
       "    <tr>\n",
       "      <th>0</th>\n",
       "      <td>1925421</td>\n",
       "      <td>2006-02-15</td>\n",
       "      <td>Genzyme Corporation, Inc.</td>\n",
       "      <td>346012</td>\n",
       "      <td>[12233]</td>\n",
       "      <td>['Genzyme Corporation, Inc.']</td>\n",
       "      <td>[346012]</td>\n",
       "      <td>[[12233]]</td>\n",
       "      <td>2024-08-05</td>\n",
       "    </tr>\n",
       "    <tr>\n",
       "      <th>1</th>\n",
       "      <td>1935525</td>\n",
       "      <td>2006-04-27</td>\n",
       "      <td>WithSecure Oyj</td>\n",
       "      <td>883456</td>\n",
       "      <td>[234356]</td>\n",
       "      <td>['WithSecure Oyj']</td>\n",
       "      <td>[883456]</td>\n",
       "      <td>[[234356]]</td>\n",
       "      <td>2024-08-05</td>\n",
       "    </tr>\n",
       "    <tr>\n",
       "      <th>2</th>\n",
       "      <td>1935526</td>\n",
       "      <td>2006-08-01</td>\n",
       "      <td>WithSecure Oyj</td>\n",
       "      <td>883456</td>\n",
       "      <td>[234356]</td>\n",
       "      <td>['WithSecure Oyj']</td>\n",
       "      <td>[883456]</td>\n",
       "      <td>[[234356]]</td>\n",
       "      <td>2024-08-05</td>\n",
       "    </tr>\n",
       "    <tr>\n",
       "      <th>3</th>\n",
       "      <td>1935527</td>\n",
       "      <td>2006-10-24</td>\n",
       "      <td>WithSecure Oyj</td>\n",
       "      <td>883456</td>\n",
       "      <td>[234356]</td>\n",
       "      <td>['WithSecure Oyj']</td>\n",
       "      <td>[883456]</td>\n",
       "      <td>[[234356]]</td>\n",
       "      <td>2024-08-05</td>\n",
       "    </tr>\n",
       "    <tr>\n",
       "      <th>4</th>\n",
       "      <td>2433319</td>\n",
       "      <td>2006-05-18</td>\n",
       "      <td>Nordstrom, Inc.</td>\n",
       "      <td>32215</td>\n",
       "      <td>[7922]</td>\n",
       "      <td>['Nordstrom, Inc.']</td>\n",
       "      <td>[32215]</td>\n",
       "      <td>[[7922]]</td>\n",
       "      <td>2024-08-05</td>\n",
       "    </tr>\n",
       "  </tbody>\n",
       "</table>\n",
       "</div>"
      ],
      "text/plain": [
       "       key        date        companyname_primary  companyid_primary  \\\n",
       "0  1925421  2006-02-15  Genzyme Corporation, Inc.             346012   \n",
       "1  1935525  2006-04-27             WithSecure Oyj             883456   \n",
       "2  1935526  2006-08-01             WithSecure Oyj             883456   \n",
       "3  1935527  2006-10-24             WithSecure Oyj             883456   \n",
       "4  2433319  2006-05-18            Nordstrom, Inc.              32215   \n",
       "\n",
       "  gvkey_primary                   companynames companyids      gvkeys  \\\n",
       "0       [12233]  ['Genzyme Corporation, Inc.']   [346012]   [[12233]]   \n",
       "1      [234356]             ['WithSecure Oyj']   [883456]  [[234356]]   \n",
       "2      [234356]             ['WithSecure Oyj']   [883456]  [[234356]]   \n",
       "3      [234356]             ['WithSecure Oyj']   [883456]  [[234356]]   \n",
       "4        [7922]            ['Nordstrom, Inc.']    [32215]    [[7922]]   \n",
       "\n",
       "  version_date  \n",
       "0   2024-08-05  \n",
       "1   2024-08-05  \n",
       "2   2024-08-05  \n",
       "3   2024-08-05  \n",
       "4   2024-08-05  "
      ]
     },
     "execution_count": 2,
     "metadata": {},
     "output_type": "execute_result"
    }
   ],
   "source": [
    "gcap_data = \"/oak/stanford/groups/maggiori/GCAP/data/\"\n",
    "metadata = pd.read_csv(f\"{gcap_data}/shared/WRDS_Transcripts/output/latest/metadata.csv\" )\n",
    "metadata.head()"
   ]
  },
  {
   "cell_type": "code",
   "execution_count": 3,
   "id": "2c947401-e07c-4097-b70a-95c1203e6d44",
   "metadata": {
    "tags": []
   },
   "outputs": [
    {
     "data": {
      "text/plain": [
       "version_date\n",
       "2024-08-05    326868\n",
       "2024-11-19     27991\n",
       "2025-09-04     10350\n",
       "2025-04-01      6448\n",
       "2025-05-23      4378\n",
       "2025-01-29      1864\n",
       "2025-04-23      1724\n",
       "Name: count, dtype: int64"
      ]
     },
     "execution_count": 3,
     "metadata": {},
     "output_type": "execute_result"
    }
   ],
   "source": [
    "metadata['version_date'].value_counts()"
   ]
  },
  {
   "cell_type": "code",
   "execution_count": 3,
   "id": "1707ca61-fec8-4465-b3f7-8bd9b084420d",
   "metadata": {
    "tags": []
   },
   "outputs": [
    {
     "data": {
      "text/plain": [
       "(100, 9)"
      ]
     },
     "execution_count": 3,
     "metadata": {},
     "output_type": "execute_result"
    }
   ],
   "source": [
    "df = metadata[(metadata['date'] >= '2025-01-01') & (metadata['date'] <= '2025-06-30')].sample(100)\n",
    "df.shape"
   ]
  },
  {
   "cell_type": "code",
   "execution_count": 4,
   "id": "8d372134-d0f0-467e-9fb0-92b85cec6836",
   "metadata": {
    "tags": []
   },
   "outputs": [],
   "source": [
    "import os\n",
    "def read_transcript(wrds_path: str, file_path: str) -> str:\n",
    "    transcript_path = os.path.join(wrds_path, file_path)\n",
    "    with open(transcript_path, \"r\", encoding=\"utf-8\", errors=\"replace\") as f:\n",
    "        return f.read()"
   ]
  },
  {
   "cell_type": "code",
   "execution_count": 5,
   "id": "54b06fdb-5868-4a11-ba89-3a7c9d0fc860",
   "metadata": {
    "tags": []
   },
   "outputs": [
    {
     "data": {
      "text/html": [
       "<div>\n",
       "<style scoped>\n",
       "    .dataframe tbody tr th:only-of-type {\n",
       "        vertical-align: middle;\n",
       "    }\n",
       "\n",
       "    .dataframe tbody tr th {\n",
       "        vertical-align: top;\n",
       "    }\n",
       "\n",
       "    .dataframe thead th {\n",
       "        text-align: right;\n",
       "    }\n",
       "</style>\n",
       "<table border=\"1\" class=\"dataframe\">\n",
       "  <thead>\n",
       "    <tr style=\"text-align: right;\">\n",
       "      <th></th>\n",
       "      <th>key</th>\n",
       "      <th>date</th>\n",
       "      <th>companyname_primary</th>\n",
       "      <th>companyid_primary</th>\n",
       "      <th>gvkey_primary</th>\n",
       "      <th>companynames</th>\n",
       "      <th>companyids</th>\n",
       "      <th>gvkeys</th>\n",
       "      <th>version_date</th>\n",
       "      <th>year</th>\n",
       "      <th>file_path</th>\n",
       "      <th>transcript</th>\n",
       "    </tr>\n",
       "  </thead>\n",
       "  <tbody>\n",
       "    <tr>\n",
       "      <th>358449</th>\n",
       "      <td>1916829742</td>\n",
       "      <td>2025-01-23</td>\n",
       "      <td>OSI Systems, Inc.</td>\n",
       "      <td>366230</td>\n",
       "      <td>[65607]</td>\n",
       "      <td>['OSI Systems, Inc.']</td>\n",
       "      <td>[366230]</td>\n",
       "      <td>[[65607]]</td>\n",
       "      <td>2025-04-01</td>\n",
       "      <td>2025</td>\n",
       "      <td>2025/1916829742.txt</td>\n",
       "      <td>HEADLINE= OSI Systems, Inc., Q2 2025 Earnings ...</td>\n",
       "    </tr>\n",
       "    <tr>\n",
       "      <th>362298</th>\n",
       "      <td>1931419578</td>\n",
       "      <td>2025-02-27</td>\n",
       "      <td>Howden Joinery Group Plc</td>\n",
       "      <td>31473</td>\n",
       "      <td>[104898]</td>\n",
       "      <td>['Howden Joinery Group Plc']</td>\n",
       "      <td>[31473]</td>\n",
       "      <td>[[104898]]</td>\n",
       "      <td>2025-04-01</td>\n",
       "      <td>2025</td>\n",
       "      <td>2025/1931419578.txt</td>\n",
       "      <td>HEADLINE= Howden Joinery Group Plc, 2024 Earni...</td>\n",
       "    </tr>\n",
       "    <tr>\n",
       "      <th>362624</th>\n",
       "      <td>1931908219</td>\n",
       "      <td>2025-02-24</td>\n",
       "      <td>GenusPlus Group Ltd</td>\n",
       "      <td>645788030</td>\n",
       "      <td>[345340]</td>\n",
       "      <td>['GenusPlus Group Ltd']</td>\n",
       "      <td>[645788030]</td>\n",
       "      <td>[[345340]]</td>\n",
       "      <td>2025-04-01</td>\n",
       "      <td>2025</td>\n",
       "      <td>2025/1931908219.txt</td>\n",
       "      <td>HEADLINE= GenusPlus Group Ltd, H1 2025 Earning...</td>\n",
       "    </tr>\n",
       "    <tr>\n",
       "      <th>358887</th>\n",
       "      <td>1917348510</td>\n",
       "      <td>2025-02-05</td>\n",
       "      <td>REA Group Limited</td>\n",
       "      <td>4493607</td>\n",
       "      <td>[248015]</td>\n",
       "      <td>['REA Group Limited']</td>\n",
       "      <td>[4493607]</td>\n",
       "      <td>[[248015]]</td>\n",
       "      <td>2025-04-01</td>\n",
       "      <td>2025</td>\n",
       "      <td>2025/1917348510.txt</td>\n",
       "      <td>HEADLINE= REA Group Limited, H1 2025 Earnings ...</td>\n",
       "    </tr>\n",
       "    <tr>\n",
       "      <th>366487</th>\n",
       "      <td>1938675836</td>\n",
       "      <td>2025-05-07</td>\n",
       "      <td>Bentley Systems, Incorporated</td>\n",
       "      <td>25514</td>\n",
       "      <td>[37076, 148392]</td>\n",
       "      <td>['Bentley Systems, Incorporated']</td>\n",
       "      <td>[25514]</td>\n",
       "      <td>[[37076, 148392]]</td>\n",
       "      <td>2025-05-23</td>\n",
       "      <td>2025</td>\n",
       "      <td>2025/1938675836.txt</td>\n",
       "      <td>HEADLINE= Bentley Systems, Incorporated, Q1 20...</td>\n",
       "    </tr>\n",
       "  </tbody>\n",
       "</table>\n",
       "</div>"
      ],
      "text/plain": [
       "               key        date            companyname_primary  \\\n",
       "358449  1916829742  2025-01-23              OSI Systems, Inc.   \n",
       "362298  1931419578  2025-02-27       Howden Joinery Group Plc   \n",
       "362624  1931908219  2025-02-24            GenusPlus Group Ltd   \n",
       "358887  1917348510  2025-02-05              REA Group Limited   \n",
       "366487  1938675836  2025-05-07  Bentley Systems, Incorporated   \n",
       "\n",
       "        companyid_primary    gvkey_primary                       companynames  \\\n",
       "358449             366230          [65607]              ['OSI Systems, Inc.']   \n",
       "362298              31473         [104898]       ['Howden Joinery Group Plc']   \n",
       "362624          645788030         [345340]            ['GenusPlus Group Ltd']   \n",
       "358887            4493607         [248015]              ['REA Group Limited']   \n",
       "366487              25514  [37076, 148392]  ['Bentley Systems, Incorporated']   \n",
       "\n",
       "         companyids             gvkeys version_date  year  \\\n",
       "358449     [366230]          [[65607]]   2025-04-01  2025   \n",
       "362298      [31473]         [[104898]]   2025-04-01  2025   \n",
       "362624  [645788030]         [[345340]]   2025-04-01  2025   \n",
       "358887    [4493607]         [[248015]]   2025-04-01  2025   \n",
       "366487      [25514]  [[37076, 148392]]   2025-05-23  2025   \n",
       "\n",
       "                  file_path                                         transcript  \n",
       "358449  2025/1916829742.txt  HEADLINE= OSI Systems, Inc., Q2 2025 Earnings ...  \n",
       "362298  2025/1931419578.txt  HEADLINE= Howden Joinery Group Plc, 2024 Earni...  \n",
       "362624  2025/1931908219.txt  HEADLINE= GenusPlus Group Ltd, H1 2025 Earning...  \n",
       "358887  2025/1917348510.txt  HEADLINE= REA Group Limited, H1 2025 Earnings ...  \n",
       "366487  2025/1938675836.txt  HEADLINE= Bentley Systems, Incorporated, Q1 20...  "
      ]
     },
     "execution_count": 5,
     "metadata": {},
     "output_type": "execute_result"
    }
   ],
   "source": [
    "df['year'] = df.date.map(lambda x: x[:4])\n",
    "df['file_path'] = df.apply(lambda x: x.year + \"/\" + str(x.key) + \".txt\", axis=1)\n",
    "wrds_path = f\"{gcap_data}/shared/WRDS_Transcripts/output/latest/texts\"\n",
    "df['transcript'] = df.apply(lambda x: read_transcript(wrds_path, x.file_path), axis=1)\n",
    "df.head()"
   ]
  },
  {
   "cell_type": "code",
   "execution_count": 6,
   "id": "361a07cf-1a0c-4676-a9e2-ac7139633af2",
   "metadata": {
    "tags": []
   },
   "outputs": [],
   "source": [
    "df.to_parquet(f\"{gcap_data}shared/ai_geo1/temp/transcripts/transcripts_2025_workshop_sample.parquet\", index=False)"
   ]
  },
  {
   "cell_type": "code",
   "execution_count": null,
   "id": "39ab5fcc-337f-4553-95ed-148c60059e44",
   "metadata": {},
   "outputs": [],
   "source": []
  }
 ],
 "metadata": {
  "kernelspec": {
   "display_name": "Python 3 (ipykernel)",
   "language": "python",
   "name": "python3"
  },
  "language_info": {
   "codemirror_mode": {
    "name": "ipython",
    "version": 3
   },
   "file_extension": ".py",
   "mimetype": "text/x-python",
   "name": "python",
   "nbconvert_exporter": "python",
   "pygments_lexer": "ipython3",
   "version": "3.11.6"
  }
 },
 "nbformat": 4,
 "nbformat_minor": 5
}
